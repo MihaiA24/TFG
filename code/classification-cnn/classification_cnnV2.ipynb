{
 "cells": [
  {
   "cell_type": "code",
   "execution_count": 1,
   "metadata": {},
   "outputs": [
    {
     "name": "stderr",
     "output_type": "stream",
     "text": [
      "2022-04-17 20:39:03.800995: I tensorflow/stream_executor/platform/default/dso_loader.cc:53] Successfully opened dynamic library libcudart.so.11.0\n"
     ]
    },
    {
     "name": "stdout",
     "output_type": "stream",
     "text": [
      "2.5.0\n"
     ]
    }
   ],
   "source": [
    "import tensorflow as tf\n",
    "import os\n",
    "import time\n",
    "from tensorflow.keras.models import Sequential\n",
    "from tensorflow.keras.layers import Dense, Conv2D, Flatten, Dropout, MaxPooling2D\n",
    "import matplotlib.pyplot as plt\n",
    "print(tf.__version__)"
   ]
  },
  {
   "cell_type": "code",
   "execution_count": 2,
   "metadata": {},
   "outputs": [
    {
     "name": "stdout",
     "output_type": "stream",
     "text": [
      "1\n"
     ]
    },
    {
     "name": "stderr",
     "output_type": "stream",
     "text": [
      "2022-04-17 20:39:06.138399: I tensorflow/stream_executor/platform/default/dso_loader.cc:53] Successfully opened dynamic library libcuda.so.1\n",
      "2022-04-17 20:39:06.178115: I tensorflow/stream_executor/cuda/cuda_gpu_executor.cc:937] successful NUMA node read from SysFS had negative value (-1), but there must be at least one NUMA node, so returning NUMA node zero\n",
      "2022-04-17 20:39:06.178729: I tensorflow/core/common_runtime/gpu/gpu_device.cc:1733] Found device 0 with properties: \n",
      "pciBusID: 0000:01:00.0 name: GeForce GTX 1050 computeCapability: 6.1\n",
      "coreClock: 1.493GHz coreCount: 5 deviceMemorySize: 3.95GiB deviceMemoryBandwidth: 104.43GiB/s\n",
      "2022-04-17 20:39:06.178802: I tensorflow/stream_executor/platform/default/dso_loader.cc:53] Successfully opened dynamic library libcudart.so.11.0\n",
      "2022-04-17 20:39:06.189376: I tensorflow/stream_executor/platform/default/dso_loader.cc:53] Successfully opened dynamic library libcublas.so.11\n",
      "2022-04-17 20:39:06.189495: I tensorflow/stream_executor/platform/default/dso_loader.cc:53] Successfully opened dynamic library libcublasLt.so.11\n",
      "2022-04-17 20:39:06.193645: I tensorflow/stream_executor/platform/default/dso_loader.cc:53] Successfully opened dynamic library libcufft.so.10\n",
      "2022-04-17 20:39:06.195784: I tensorflow/stream_executor/platform/default/dso_loader.cc:53] Successfully opened dynamic library libcurand.so.10\n",
      "2022-04-17 20:39:06.198991: I tensorflow/stream_executor/platform/default/dso_loader.cc:53] Successfully opened dynamic library libcusolver.so.11\n",
      "2022-04-17 20:39:06.201946: I tensorflow/stream_executor/platform/default/dso_loader.cc:53] Successfully opened dynamic library libcusparse.so.11\n",
      "2022-04-17 20:39:06.202552: I tensorflow/stream_executor/platform/default/dso_loader.cc:53] Successfully opened dynamic library libcudnn.so.8\n",
      "2022-04-17 20:39:06.202691: I tensorflow/stream_executor/cuda/cuda_gpu_executor.cc:937] successful NUMA node read from SysFS had negative value (-1), but there must be at least one NUMA node, so returning NUMA node zero\n",
      "2022-04-17 20:39:06.203167: I tensorflow/stream_executor/cuda/cuda_gpu_executor.cc:937] successful NUMA node read from SysFS had negative value (-1), but there must be at least one NUMA node, so returning NUMA node zero\n",
      "2022-04-17 20:39:06.203571: I tensorflow/core/common_runtime/gpu/gpu_device.cc:1871] Adding visible gpu devices: 0\n"
     ]
    },
    {
     "name": "stdout",
     "output_type": "stream",
     "text": [
      "\u001b[H\u001b[2J"
     ]
    }
   ],
   "source": [
    "print(len(tf.config.list_physical_devices('GPU')))\n",
    "!clear"
   ]
  },
  {
   "cell_type": "code",
   "execution_count": 3,
   "metadata": {},
   "outputs": [],
   "source": [
    "# Parameters\n",
    "IMAGE_WIDTH = 32 \n",
    "IMAGE_HEIGHT = 32\n",
    "BATCH_SIZE = 16\n",
    "n_classes = 34\n",
    "\n",
    "train_dir = 'classification_dataset/train/'\n",
    "val_dir = 'classification_dataset/val/'\n",
    "test_dir = 'classification_dataset/test/'"
   ]
  },
  {
   "cell_type": "code",
   "execution_count": 5,
   "metadata": {},
   "outputs": [
    {
     "name": "stdout",
     "output_type": "stream",
     "text": [
      "Found 187686 images belonging to 34 classes.\n",
      "Found 50702 images belonging to 34 classes.\n",
      "Found 66119 images belonging to 34 classes.\n"
     ]
    }
   ],
   "source": [
    "datagen = tf.keras.preprocessing.image.ImageDataGenerator(\n",
    "    rescale=1./255,\n",
    "    rotation_range=15,     #Random rotation between 0 and 45\n",
    "    width_shift_range=0.2,   #% shift\n",
    "    height_shift_range=0.2,\n",
    "    shear_range=0.2,\n",
    "    zoom_range=0.2,\n",
    ")\n",
    "\n",
    "valgen = tf.keras.preprocessing.image.ImageDataGenerator(\n",
    "    rescale=1./255\n",
    ")\n",
    "\n",
    "testgen = tf.keras.preprocessing.image.ImageDataGenerator(\n",
    "    rescale=1./255\n",
    ")\n",
    "\n",
    "train_generator = datagen.flow_from_directory(\n",
    "    train_dir,\n",
    "    shuffle=True,\n",
    "    batch_size = BATCH_SIZE,\n",
    "    target_size=(IMAGE_HEIGHT,IMAGE_WIDTH)\n",
    ")\n",
    "\n",
    "valid_generator = valgen.flow_from_directory(\n",
    "    val_dir,\n",
    "    shuffle=True,\n",
    "    batch_size = BATCH_SIZE,\n",
    "    target_size=(IMAGE_HEIGHT,IMAGE_WIDTH)\n",
    ")\n",
    "\n",
    "test_generator = testgen.flow_from_directory(\n",
    "    test_dir,\n",
    "    shuffle=True,\n",
    "    batch_size = BATCH_SIZE,\n",
    "    target_size=(IMAGE_HEIGHT,IMAGE_WIDTH),\n",
    ")"
   ]
  },
  {
   "cell_type": "code",
   "execution_count": 4,
   "metadata": {},
   "outputs": [
    {
     "data": {
      "image/png": "[encoded data removed]",
      "text/plain": [
       "<Figure size 1440x1440 with 5 Axes>"
      ]
     },
     "metadata": {
      "needs_background": "light"
     },
     "output_type": "display_data"
    }
   ],
   "source": [
    "# This function will plot images in the form of a grid with 1 row and 5 columns where images are placed in each column.\n",
    "def plotImages(images_arr):\n",
    "    fig, axes = plt.subplots(1, 5, figsize=(20,20))\n",
    "    axes = axes.flatten()\n",
    "    for img, ax in zip( images_arr, axes):\n",
    "        ax.imshow(img)\n",
    "    plt.tight_layout()\n",
    "    plt.show()\n",
    "\n",
    "\n",
    "augmented_images = [train_generator[0][0][0] for i in range(5)]\n",
    "plotImages(augmented_images)"
   ]
  },
  {
   "cell_type": "code",
   "execution_count": 6,
   "metadata": {},
   "outputs": [],
   "source": [
    "# def build_model(num_classes):\n",
    "#     model = tf.keras.Sequential([\n",
    "#     tf.keras.layers.Conv2D(filters=8, kernel_size=(3, 3), activation='relu', \n",
    "#                            input_shape=(IMAGE_HEIGHT, IMAGE_WIDTH, 3)),\n",
    "#     tf.keras.layers.MaxPooling2D(pool_size=(2, 2), strides=2),\n",
    "#     tf.keras.layers.Conv2D(filters=16, kernel_size=(3, 3), activation='relu'),\n",
    "#     tf.keras.layers.MaxPooling2D(pool_size=(2, 2), strides=2),\n",
    "#     tf.keras.layers.Conv2D(filters=32, kernel_size=(3, 3), activation='relu'),\n",
    "#     tf.keras.layers.MaxPooling2D(pool_size=(2, 2), strides=2),\n",
    "#     tf.keras.layers.Flatten(),\n",
    "#     tf.keras.layers.Dense(64, activation='relu'),\n",
    "#     tf.keras.layers.Dense(num_classes, activation='softmax')\n",
    "#     ])\n",
    "#     return model\n",
    "# model = build_model(num_classes=n_classes)"
   ]
  },
  {
   "cell_type": "code",
   "execution_count": 7,
   "metadata": {},
   "outputs": [
    {
     "name": "stderr",
     "output_type": "stream",
     "text": [
      "2022-04-01 20:57:53.633209: I tensorflow/core/platform/cpu_feature_guard.cc:142] This TensorFlow binary is optimized with oneAPI Deep Neural Network Library (oneDNN) to use the following CPU instructions in performance-critical operations:  AVX2 FMA\n",
      "To enable them in other operations, rebuild TensorFlow with the appropriate compiler flags.\n",
      "2022-04-01 20:57:53.633702: I tensorflow/stream_executor/cuda/cuda_gpu_executor.cc:937] successful NUMA node read from SysFS had negative value (-1), but there must be at least one NUMA node, so returning NUMA node zero\n",
      "2022-04-01 20:57:53.634007: I tensorflow/core/common_runtime/gpu/gpu_device.cc:1733] Found device 0 with properties: \n",
      "pciBusID: 0000:01:00.0 name: GeForce GTX 1050 computeCapability: 6.1\n",
      "coreClock: 1.493GHz coreCount: 5 deviceMemorySize: 3.95GiB deviceMemoryBandwidth: 104.43GiB/s\n",
      "2022-04-01 20:57:53.634120: I tensorflow/stream_executor/cuda/cuda_gpu_executor.cc:937] successful NUMA node read from SysFS had negative value (-1), but there must be at least one NUMA node, so returning NUMA node zero\n",
      "2022-04-01 20:57:53.634369: I tensorflow/stream_executor/cuda/cuda_gpu_executor.cc:937] successful NUMA node read from SysFS had negative value (-1), but there must be at least one NUMA node, so returning NUMA node zero\n",
      "2022-04-01 20:57:53.634588: I tensorflow/core/common_runtime/gpu/gpu_device.cc:1871] Adding visible gpu devices: 0\n",
      "2022-04-01 20:57:53.634871: I tensorflow/stream_executor/platform/default/dso_loader.cc:53] Successfully opened dynamic library libcudart.so.11.0\n",
      "2022-04-01 20:57:54.586066: I tensorflow/core/common_runtime/gpu/gpu_device.cc:1258] Device interconnect StreamExecutor with strength 1 edge matrix:\n",
      "2022-04-01 20:57:54.586100: I tensorflow/core/common_runtime/gpu/gpu_device.cc:1264]      0 \n",
      "2022-04-01 20:57:54.586106: I tensorflow/core/common_runtime/gpu/gpu_device.cc:1277] 0:   N \n",
      "2022-04-01 20:57:54.586263: I tensorflow/stream_executor/cuda/cuda_gpu_executor.cc:937] successful NUMA node read from SysFS had negative value (-1), but there must be at least one NUMA node, so returning NUMA node zero\n",
      "2022-04-01 20:57:54.586527: I tensorflow/stream_executor/cuda/cuda_gpu_executor.cc:937] successful NUMA node read from SysFS had negative value (-1), but there must be at least one NUMA node, so returning NUMA node zero\n",
      "2022-04-01 20:57:54.586764: I tensorflow/stream_executor/cuda/cuda_gpu_executor.cc:937] successful NUMA node read from SysFS had negative value (-1), but there must be at least one NUMA node, so returning NUMA node zero\n",
      "2022-04-01 20:57:54.586975: I tensorflow/core/common_runtime/gpu/gpu_device.cc:1418] Created TensorFlow device (/job:localhost/replica:0/task:0/device:GPU:0 with 2671 MB memory) -> physical GPU (device: 0, name: GeForce GTX 1050, pci bus id: 0000:01:00.0, compute capability: 6.1)\n"
     ]
    }
   ],
   "source": [
    "from    tensorflow.keras import Input, Model\n",
    "from tensorflow.keras.layers import Conv2D, MaxPooling2D, Dense, Flatten, Dropout\n",
    "\n",
    "def VGG16(nb_classes, input_shape):\n",
    "    input_tensor = Input(shape=input_shape)\n",
    "    # 1st block\n",
    "    x = Conv2D(64, (3,3), activation='relu', padding='same',name='conv1a')(input_tensor)\n",
    "    x = Conv2D(64, (3,3), activation='relu', padding='same',name='conv1b')(x)\n",
    "    x = MaxPooling2D((2,2), strides=(2,2), name = 'pool1')(x)\n",
    "    # 2nd block\n",
    "    x = Conv2D(128, (3,3), activation='relu', padding='same',name='conv2a')(x)\n",
    "    x = Conv2D(128, (3,3), activation='relu', padding='same',name='conv2b')(x)\n",
    "    x = MaxPooling2D((2,2), strides=(2,2), name = 'pool2')(x)\n",
    "    # 3rd block\n",
    "    x = Conv2D(256, (3,3), activation='relu', padding='same',name='conv3a')(x)\n",
    "    x = Conv2D(256, (3,3), activation='relu', padding='same',name='conv3b')(x)\n",
    "    x = Conv2D(256, (3,3), activation='relu', padding='same',name='conv3c')(x)\n",
    "    x = MaxPooling2D((2,2), strides=(2,2), name = 'pool3')(x)\n",
    "    # 4th block\n",
    "    x = Conv2D(512, (3,3), activation='relu', padding='same',name='conv4a')(x)\n",
    "    x = Conv2D(512, (3,3), activation='relu', padding='same',name='conv4b')(x)\n",
    "    x = Conv2D(512, (3,3), activation='relu', padding='same',name='conv4c')(x)\n",
    "    x = MaxPooling2D((2,2), strides=(2,2), name = 'pool4')(x)\n",
    "    # 5th block\n",
    "    x = Conv2D(512, (3,3), activation='relu', padding='same',name='conv5a')(x)\n",
    "    x = Conv2D(512, (3,3), activation='relu', padding='same',name='conv5b')(x)\n",
    "    x = Conv2D(512, (3,3), activation='relu', padding='same',name='conv5c')(x)\n",
    "    x = MaxPooling2D((2,2), strides=(2,2), name = 'pool5')(x)\n",
    "    # full connection\n",
    "    x = Flatten()(x)\n",
    "    x = Dense(4096, activation='relu',  name='fc6')(x)\n",
    "    x = Dropout(0.5)(x)\n",
    "    x = Dense(4096, activation='relu', name='fc7')(x)\n",
    "    x = Dropout(0.5)(x)\n",
    "    output_tensor = Dense(nb_classes, activation='softmax', name='fc8')(x)\n",
    "\n",
    "    model = Model(input_tensor, output_tensor)\n",
    "    return model\n",
    "\n",
    "model=VGG16(n_classes, (IMAGE_HEIGHT, IMAGE_WIDTH, 3))"
   ]
  },
  {
   "cell_type": "code",
   "execution_count": 8,
   "metadata": {},
   "outputs": [
    {
     "name": "stderr",
     "output_type": "stream",
     "text": [
      "/home/mihai/TFG/tensorflow/lib/python3.8/site-packages/tensorflow/python/keras/optimizer_v2/optimizer_v2.py:374: UserWarning: The `lr` argument is deprecated, use `learning_rate` instead.\n",
      "  warnings.warn(\n",
      "2022-04-01 20:57:55.262340: I tensorflow/compiler/mlir/mlir_graph_optimization_pass.cc:176] None of the MLIR Optimization Passes are enabled (registered 2)\n",
      "2022-04-01 20:57:55.281860: I tensorflow/core/platform/profile_utils/cpu_utils.cc:114] CPU Frequency: 2799925000 Hz\n"
     ]
    },
    {
     "name": "stdout",
     "output_type": "stream",
     "text": [
      "Epoch 1/50\n"
     ]
    },
    {
     "name": "stderr",
     "output_type": "stream",
     "text": [
      "2022-04-01 20:57:56.129848: I tensorflow/stream_executor/platform/default/dso_loader.cc:53] Successfully opened dynamic library libcudnn.so.8\n",
      "2022-04-01 20:57:56.840173: I tensorflow/stream_executor/cuda/cuda_dnn.cc:359] Loaded cuDNN version 8100\n",
      "2022-04-01 20:57:57.723669: I tensorflow/stream_executor/platform/default/dso_loader.cc:53] Successfully opened dynamic library libcublas.so.11\n",
      "2022-04-01 20:57:58.387203: I tensorflow/stream_executor/platform/default/dso_loader.cc:53] Successfully opened dynamic library libcublasLt.so.11\n"
     ]
    },
    {
     "name": "stdout",
     "output_type": "stream",
     "text": [
      "11730/11730 [==============================] - 950s 81ms/step - loss: 1.9935 - accuracy: 0.3938 - val_loss: 0.5547 - val_accuracy: 0.8294\n",
      "Epoch 2/50\n",
      "11730/11730 [==============================] - 897s 76ms/step - loss: 0.6890 - accuracy: 0.7885 - val_loss: 0.2983 - val_accuracy: 0.9140\n",
      "Epoch 3/50\n",
      "11730/11730 [==============================] - 893s 76ms/step - loss: 0.4328 - accuracy: 0.8710 - val_loss: 0.2085 - val_accuracy: 0.9409\n",
      "Epoch 4/50\n",
      "11730/11730 [==============================] - 898s 77ms/step - loss: 0.3239 - accuracy: 0.9054 - val_loss: 0.1686 - val_accuracy: 0.9533\n",
      "Epoch 5/50\n",
      "11730/11730 [==============================] - 899s 77ms/step - loss: 0.2656 - accuracy: 0.9236 - val_loss: 0.1565 - val_accuracy: 0.9558\n",
      "Epoch 6/50\n",
      "11730/11730 [==============================] - 895s 76ms/step - loss: 0.2289 - accuracy: 0.9351 - val_loss: 0.1330 - val_accuracy: 0.9644\n",
      "Epoch 7/50\n",
      "11730/11730 [==============================] - 891s 76ms/step - loss: 0.2030 - accuracy: 0.9424 - val_loss: 0.1186 - val_accuracy: 0.9687\n",
      "Epoch 8/50\n",
      "11730/11730 [==============================] - 891s 76ms/step - loss: 0.1847 - accuracy: 0.9480 - val_loss: 0.1156 - val_accuracy: 0.9688\n",
      "Epoch 9/50\n",
      "11730/11730 [==============================] - 887s 76ms/step - loss: 0.1683 - accuracy: 0.9529 - val_loss: 0.1025 - val_accuracy: 0.9737\n",
      "Epoch 10/50\n",
      "11730/11730 [==============================] - 892s 76ms/step - loss: 0.1563 - accuracy: 0.9569 - val_loss: 0.0983 - val_accuracy: 0.9755\n",
      "Epoch 11/50\n",
      "11730/11730 [==============================] - 892s 76ms/step - loss: 0.1444 - accuracy: 0.9603 - val_loss: 0.0926 - val_accuracy: 0.9767\n",
      "Epoch 12/50\n",
      "11730/11730 [==============================] - 892s 76ms/step - loss: 0.1373 - accuracy: 0.9620 - val_loss: 0.1084 - val_accuracy: 0.9718\n",
      "Epoch 13/50\n",
      "11730/11730 [==============================] - 889s 76ms/step - loss: 0.1308 - accuracy: 0.9642 - val_loss: 0.0920 - val_accuracy: 0.9773\n",
      "Epoch 14/50\n",
      "11730/11730 [==============================] - 888s 76ms/step - loss: 0.1246 - accuracy: 0.9661 - val_loss: 0.0847 - val_accuracy: 0.9788\n",
      "Epoch 15/50\n",
      "11730/11730 [==============================] - 889s 76ms/step - loss: 0.1187 - accuracy: 0.9679 - val_loss: 0.0761 - val_accuracy: 0.9818\n",
      "Epoch 16/50\n",
      "11730/11730 [==============================] - 894s 76ms/step - loss: 0.1136 - accuracy: 0.9691 - val_loss: 0.0794 - val_accuracy: 0.9799\n",
      "Epoch 17/50\n",
      "11730/11730 [==============================] - 894s 76ms/step - loss: 0.1094 - accuracy: 0.9704 - val_loss: 0.0793 - val_accuracy: 0.9802\n",
      "Epoch 18/50\n",
      "11730/11730 [==============================] - 894s 76ms/step - loss: 0.1060 - accuracy: 0.9715 - val_loss: 0.0804 - val_accuracy: 0.9802\n",
      "Epoch 19/50\n",
      "11730/11730 [==============================] - 894s 76ms/step - loss: 0.1037 - accuracy: 0.9724 - val_loss: 0.0734 - val_accuracy: 0.9829\n",
      "Epoch 20/50\n",
      "11730/11730 [==============================] - 894s 76ms/step - loss: 0.1001 - accuracy: 0.9733 - val_loss: 0.0777 - val_accuracy: 0.9818\n",
      "Epoch 21/50\n",
      "11730/11730 [==============================] - 894s 76ms/step - loss: 0.0985 - accuracy: 0.9740 - val_loss: 0.0688 - val_accuracy: 0.9834\n",
      "Epoch 22/50\n",
      "11730/11730 [==============================] - 894s 76ms/step - loss: 0.0946 - accuracy: 0.9750 - val_loss: 0.0714 - val_accuracy: 0.9827\n",
      "Epoch 23/50\n",
      "11730/11730 [==============================] - 894s 76ms/step - loss: 0.0919 - accuracy: 0.9753 - val_loss: 0.0710 - val_accuracy: 0.9831\n",
      "Epoch 24/50\n",
      "11730/11730 [==============================] - 894s 76ms/step - loss: 0.0898 - accuracy: 0.9760 - val_loss: 0.0781 - val_accuracy: 0.9824\n",
      "Epoch 25/50\n",
      "11730/11730 [==============================] - 894s 76ms/step - loss: 0.0879 - accuracy: 0.9765 - val_loss: 0.0716 - val_accuracy: 0.9833\n",
      "Epoch 26/50\n",
      "11730/11730 [==============================] - 894s 76ms/step - loss: 0.0853 - accuracy: 0.9773 - val_loss: 0.0696 - val_accuracy: 0.9836\n",
      "Epoch 27/50\n",
      "11730/11730 [==============================] - 893s 76ms/step - loss: 0.0835 - accuracy: 0.9776 - val_loss: 0.0642 - val_accuracy: 0.9848\n",
      "Epoch 28/50\n",
      "11730/11730 [==============================] - 893s 76ms/step - loss: 0.0823 - accuracy: 0.9781 - val_loss: 0.0693 - val_accuracy: 0.9842\n",
      "Epoch 29/50\n",
      "11730/11730 [==============================] - 893s 76ms/step - loss: 0.0813 - accuracy: 0.9783 - val_loss: 0.0697 - val_accuracy: 0.9840\n",
      "Epoch 30/50\n",
      "11730/11730 [==============================] - 893s 76ms/step - loss: 0.0778 - accuracy: 0.9792 - val_loss: 0.0721 - val_accuracy: 0.9821\n",
      "Epoch 31/50\n",
      "11730/11730 [==============================] - 893s 76ms/step - loss: 0.0771 - accuracy: 0.9795 - val_loss: 0.0679 - val_accuracy: 0.9838\n",
      "Epoch 32/50\n",
      "11730/11730 [==============================] - 893s 76ms/step - loss: 0.0762 - accuracy: 0.9798 - val_loss: 0.0719 - val_accuracy: 0.9828\n",
      "Epoch 33/50\n",
      "11730/11730 [==============================] - 893s 76ms/step - loss: 0.0739 - accuracy: 0.9804 - val_loss: 0.0682 - val_accuracy: 0.9848\n",
      "Epoch 34/50\n",
      "11730/11730 [==============================] - 893s 76ms/step - loss: 0.0724 - accuracy: 0.9806 - val_loss: 0.0664 - val_accuracy: 0.9844\n",
      "Epoch 35/50\n",
      "11730/11730 [==============================] - 893s 76ms/step - loss: 0.0715 - accuracy: 0.9809 - val_loss: 0.0683 - val_accuracy: 0.9839\n",
      "Epoch 36/50\n",
      "11730/11730 [==============================] - 893s 76ms/step - loss: 0.0705 - accuracy: 0.9815 - val_loss: 0.0651 - val_accuracy: 0.9852\n",
      "Epoch 37/50\n",
      "11730/11730 [==============================] - 893s 76ms/step - loss: 0.0693 - accuracy: 0.9813 - val_loss: 0.0671 - val_accuracy: 0.9844\n",
      "Epoch 38/50\n",
      "11730/11730 [==============================] - 893s 76ms/step - loss: 0.0676 - accuracy: 0.9819 - val_loss: 0.0727 - val_accuracy: 0.9831\n",
      "Epoch 39/50\n",
      "11730/11730 [==============================] - 893s 76ms/step - loss: 0.0666 - accuracy: 0.9822 - val_loss: 0.0633 - val_accuracy: 0.9852\n",
      "Epoch 40/50\n",
      "11730/11730 [==============================] - 893s 76ms/step - loss: 0.0650 - accuracy: 0.9825 - val_loss: 0.0647 - val_accuracy: 0.9862\n",
      "Epoch 41/50\n",
      "11730/11730 [==============================] - 893s 76ms/step - loss: 0.0643 - accuracy: 0.9826 - val_loss: 0.0679 - val_accuracy: 0.9847\n",
      "Epoch 42/50\n",
      "11730/11730 [==============================] - 893s 76ms/step - loss: 0.0639 - accuracy: 0.9828 - val_loss: 0.0648 - val_accuracy: 0.9852\n",
      "Epoch 43/50\n",
      "11730/11730 [==============================] - 893s 76ms/step - loss: 0.0617 - accuracy: 0.9839 - val_loss: 0.0670 - val_accuracy: 0.9850\n",
      "Epoch 44/50\n",
      "11730/11730 [==============================] - 893s 76ms/step - loss: 0.0618 - accuracy: 0.9839 - val_loss: 0.0626 - val_accuracy: 0.9856\n",
      "Epoch 45/50\n",
      "11730/11730 [==============================] - 893s 76ms/step - loss: 0.0601 - accuracy: 0.9836 - val_loss: 0.0670 - val_accuracy: 0.9858\n",
      "Epoch 46/50\n",
      "11730/11730 [==============================] - 893s 76ms/step - loss: 0.0588 - accuracy: 0.9841 - val_loss: 0.0641 - val_accuracy: 0.9860\n",
      "Epoch 47/50\n",
      "11730/11730 [==============================] - 893s 76ms/step - loss: 0.0599 - accuracy: 0.9840 - val_loss: 0.0706 - val_accuracy: 0.9844\n",
      "Epoch 48/50\n",
      "11730/11730 [==============================] - 893s 76ms/step - loss: 0.0564 - accuracy: 0.9850 - val_loss: 0.0646 - val_accuracy: 0.9866\n",
      "Epoch 49/50\n",
      "11730/11730 [==============================] - 893s 76ms/step - loss: 0.0562 - accuracy: 0.9851 - val_loss: 0.0655 - val_accuracy: 0.9854\n",
      "Epoch 50/50\n",
      "11730/11730 [==============================] - 893s 76ms/step - loss: 0.0571 - accuracy: 0.9849 - val_loss: 0.0653 - val_accuracy: 0.9850\n"
     ]
    }
   ],
   "source": [
    "\n",
    "model.compile(\n",
    "    optimizer=tf.keras.optimizers.Adam(lr=0.00001),\n",
    "    loss=tf.keras.losses.CategoricalCrossentropy(from_logits=False),\n",
    "    metrics=['accuracy']\n",
    ")\n",
    "\n",
    "EPOCHS = 20\n",
    "\n",
    "with tf.device('/GPU:0'):\n",
    "    history = model.fit(train_generator,\n",
    "                    steps_per_epoch=train_generator.samples // BATCH_SIZE,\n",
    "                    epochs=EPOCHS,\n",
    "                    validation_data=valid_generator,\n",
    "                    validation_steps= valid_generator.samples // BATCH_SIZE,\n",
    "                    verbose=1\n",
    "                    )\n"
   ]
  },
  {
   "cell_type": "code",
   "execution_count": 9,
   "metadata": {},
   "outputs": [
    {
     "name": "stdout",
     "output_type": "stream",
     "text": [
      "4133/4133 [==============================] - 68s 17ms/step - loss: 0.0647 - accuracy: 0.9851\n"
     ]
    }
   ],
   "source": [
    "results = model.evaluate(test_generator,batch_size=BATCH_SIZE)"
   ]
  },
  {
   "cell_type": "code",
   "execution_count": 10,
   "metadata": {},
   "outputs": [],
   "source": [
    "model.save('model_long2.h5')"
   ]
  },
  {
   "cell_type": "code",
   "execution_count": 11,
   "metadata": {},
   "outputs": [
    {
     "data": {
      "image/png": "[encoded data removed]",
      "text/plain": [
       "<Figure size 864x648 with 1 Axes>"
      ]
     },
     "metadata": {
      "needs_background": "light"
     },
     "output_type": "display_data"
    },
    {
     "data": {
      "image/png": "[encoded data removed]",
      "text/plain": [
       "<Figure size 864x648 with 1 Axes>"
      ]
     },
     "metadata": {
      "needs_background": "light"
     },
     "output_type": "display_data"
    }
   ],
   "source": [
    "train_loss = history.history['loss']\n",
    "train_acc = history.history['accuracy']\n",
    "valid_loss = history.history['val_loss']\n",
    "valid_acc = history.history['val_accuracy']\n",
    "def save_plots(train_acc, valid_acc, train_loss, valid_loss):\n",
    "    \"\"\"\n",
    "    Function to save the loss and accuracy plots to disk.\n",
    "    \"\"\"\n",
    "    # accuracy plots\n",
    "    plt.figure(figsize=(12, 9))\n",
    "    plt.plot(\n",
    "        train_acc, color='green', linestyle='-', \n",
    "        label='train accuracy'\n",
    "    )\n",
    "    plt.plot(\n",
    "        valid_acc, color='blue', linestyle='-', \n",
    "        label='validataion accuracy'\n",
    "    )\n",
    "    plt.xlabel('Epochs')\n",
    "    plt.ylabel('Accuracy')\n",
    "    plt.legend()\n",
    "    plt.savefig('accuracy.png')\n",
    "    plt.show()\n",
    "    # loss plots\n",
    "    plt.figure(figsize=(12, 9))\n",
    "    plt.plot(\n",
    "        train_loss, color='orange', linestyle='-', \n",
    "        label='train loss'\n",
    "    )\n",
    "    plt.plot(\n",
    "        valid_loss, color='red', linestyle='-', \n",
    "        label='validataion loss'\n",
    "    )\n",
    "    plt.xlabel('Epochs')\n",
    "    plt.ylabel('Loss')\n",
    "    plt.legend()\n",
    "    # plt.savefig('loss.png')\n",
    "    plt.show()\n",
    "save_plots(train_acc, valid_acc, train_loss, valid_loss)"
   ]
  },
  {
   "cell_type": "code",
   "execution_count": 12,
   "metadata": {},
   "outputs": [],
   "source": [
    "import numpy as np\n",
    "a = np.asarray([train_acc,valid_acc,train_loss,valid_loss])\n",
    "np.savetxt(\"model_long_data2.csv\", a, delimiter=\",\")"
   ]
  }
 ],
 "metadata": {
  "kernelspec": {
   "display_name": "Python 3.10.4 ('tf28': venv)",
   "language": "python",
   "name": "python3"
  },
  "language_info": {
   "codemirror_mode": {
    "name": "ipython",
    "version": 3
   },
   "file_extension": ".py",
   "mimetype": "text/x-python",
   "name": "python",
   "nbconvert_exporter": "python",
   "pygments_lexer": "ipython3",
   "version": "3.10.4"
  },
  "orig_nbformat": 4,
  "vscode": {
   "interpreter": {
    "hash": "070198eb2becfbd3a1ff8d9f590d14046566b34346dad7c3b07f0c859193c00c"
   }
  }
 },
 "nbformat": 4,
 "nbformat_minor": 2
}
