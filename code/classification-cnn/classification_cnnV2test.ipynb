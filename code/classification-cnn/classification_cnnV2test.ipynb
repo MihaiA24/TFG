{
 "cells": [
  {
   "cell_type": "code",
   "execution_count": null,
   "metadata": {},
   "outputs": [],
   "source": [
    "import matplotlib.pyplot as plt\n",
    "import numpy as np\n",
    "import tensorflow as tf\n",
    "import glob\n",
    "import os"
   ]
  },
  {
   "cell_type": "code",
   "execution_count": null,
   "metadata": {},
   "outputs": [],
   "source": [
    "test_dir = '../../data/classification-cnn/dataset/test/'\n",
    "IMAGE_WIDTH = 32 \n",
    "IMAGE_HEIGHT = 32\n",
    "BATCH_SIZE = 16\n"
   ]
  },
  {
   "cell_type": "code",
   "execution_count": null,
   "metadata": {},
   "outputs": [],
   "source": [
    "testgen = tf.keras.preprocessing.image.ImageDataGenerator(\n",
    "    rescale=1./255\n",
    ")\n",
    "\n",
    "test_generator = testgen.flow_from_directory(\n",
    "    test_dir,\n",
    "    shuffle=True,\n",
    "    batch_size = BATCH_SIZE,\n",
    "    target_size=(IMAGE_HEIGHT,IMAGE_WIDTH),\n",
    ")"
   ]
  },
  {
   "cell_type": "code",
   "execution_count": null,
   "metadata": {},
   "outputs": [],
   "source": [
    "def show_plots(train_acc, valid_acc, train_loss, valid_loss):\n",
    "    \"\"\"\n",
    "    Function to save the loss and accuracy plots to disk.\n",
    "    \"\"\"\n",
    "    # accuracy plots\n",
    "    plt.figure(figsize=(12, 9))\n",
    "    plt.plot(\n",
    "        train_acc, color='green', linestyle='-', \n",
    "        label='train accuracy'\n",
    "    )\n",
    "    plt.plot(\n",
    "        valid_acc, color='blue', linestyle='-', \n",
    "        label='validataion accuracy'\n",
    "    )\n",
    "    plt.xlabel('Epochs')\n",
    "    plt.ylabel('Accuracy')\n",
    "    plt.legend()\n",
    "    plt.savefig('accuracy.png')\n",
    "    plt.show()\n",
    "    # loss plots\n",
    "    plt.figure(figsize=(12, 9))\n",
    "    plt.plot(\n",
    "        train_loss, color='orange', linestyle='-', \n",
    "        label='train loss'\n",
    "    )\n",
    "    plt.plot(\n",
    "        valid_loss, color='red', linestyle='-', \n",
    "        label='validataion loss'\n",
    "    )\n",
    "    plt.xlabel('Epochs')\n",
    "    plt.ylabel('Loss')\n",
    "    plt.legend()\n",
    "    # plt.savefig('loss.png')\n",
    "    plt.show()"
   ]
  },
  {
   "cell_type": "code",
   "execution_count": null,
   "metadata": {},
   "outputs": [],
   "source": [
    "def show_plots_same_figure(model_name,train_acc, valid_acc, train_loss, valid_loss):\n",
    "    \"\"\"\n",
    "    Function to save the loss and accuracy plots to disk.\n",
    "    \"\"\"\n",
    "    path = '/home/mihai/git/TFG/data/classification-cnn/models plots/'\n",
    "    if model_name != None:\n",
    "        os.mkdir(path + model_name)\n",
    "    # accuracy plots\n",
    "    plt.figure(figsize=(8, 8))\n",
    "    plt.subplot(1,2,1)\n",
    "    plt.plot(\n",
    "        train_acc, linestyle='-', \n",
    "        label='train accuracy'\n",
    "    )\n",
    "    plt.plot(\n",
    "        valid_acc, linestyle='-', \n",
    "        label='validataion accuracy'\n",
    "    )\n",
    "    plt.xlabel('Epochs')\n",
    "    plt.ylabel('Accuracy')\n",
    "    plt.legend()\n",
    "    plt.title('Training and Validation Accuracy')\n",
    "    if model_name != None:\n",
    "        plt.savefig(path + model_name +  '/accuracy.png')\n",
    "    # plt.show()\n",
    "    # loss plots\n",
    "    # plt.figure(figsize=(12, 9))\n",
    "    plt.subplot(1,2,2)\n",
    "    plt.plot(\n",
    "        train_loss, linestyle='-', \n",
    "        label='train loss'\n",
    "    )\n",
    "    plt.plot(\n",
    "        valid_loss, linestyle='-', \n",
    "        label='validataion loss'\n",
    "    )\n",
    "    plt.xlabel('Epochs')\n",
    "    plt.ylabel('Loss')\n",
    "    plt.legend()\n",
    "    plt.title('Training and Validation Loss')\n",
    "    if model_name != None:\n",
    "        plt.savefig(path + model_name + '/loss.png')\n",
    "    plt.show()"
   ]
  },
  {
   "cell_type": "code",
   "execution_count": null,
   "metadata": {},
   "outputs": [],
   "source": [
    "model_list = glob.glob('../../data/classification-cnn/models/*')\n",
    "model_list.sort()\n",
    "model_data_list = glob.glob('../../data/classification-cnn/models data/*')\n",
    "model_data_list.sort()"
   ]
  },
  {
   "cell_type": "code",
   "execution_count": null,
   "metadata": {},
   "outputs": [],
   "source": [
    "for index, item in enumerate(model_list):\n",
    "    print(index,' - ',item.split('/')[-1])\n",
    "print('------------------------------')\n",
    "for index, item in enumerate(model_data_list):\n",
    "    print(index,' - ',item.split('/')[-1])"
   ]
  },
  {
   "cell_type": "code",
   "execution_count": null,
   "metadata": {},
   "outputs": [],
   "source": [
    "model = tf.keras.models.load_model(model_list[index])\n",
    "print()\n",
    "!clear"
   ]
  },
  {
   "cell_type": "code",
   "execution_count": null,
   "metadata": {},
   "outputs": [],
   "source": [
    "model.evaluate(test_generator)"
   ]
  },
  {
   "cell_type": "code",
   "execution_count": null,
   "metadata": {},
   "outputs": [],
   "source": [
    "index = 11\n",
    "results = np.loadtxt(model_data_list[index], delimiter=\",\")\n",
    "\n",
    "train_acc = results[0]\n",
    "valid_acc = results[1]\n",
    "train_loss = results[2]\n",
    "valid_loss = results[3]\n",
    "\n",
    "\n",
    "show_plots_same_figure('40ep_true',train_acc,valid_acc,train_loss,valid_loss)"
   ]
  },
  {
   "cell_type": "code",
   "execution_count": null,
   "metadata": {},
   "outputs": [],
   "source": [
    "import numpy as np\n",
    "a = np.asarray([train_acc,valid_acc,train_loss,valid_loss])\n",
    "np.savetxt(\"20ep.csv\", a, delimiter=\",\")"
   ]
  },
  {
   "cell_type": "code",
   "execution_count": null,
   "metadata": {},
   "outputs": [],
   "source": [
    "for item in model_data_list:\n",
    "    results = np.loadtxt(item, delimiter=\",\")\n",
    "\n",
    "    train_acc = results[0]\n",
    "    valid_acc = results[1]\n",
    "    train_loss = results[2]\n",
    "    valid_loss = results[3]\n",
    "    show_plots_same_figure(item.split('/')[-1],train_acc,valid_acc,train_loss,valid_loss)"
   ]
  }
 ],
 "metadata": {
  "kernelspec": {
   "display_name": "Python 3.10.4 ('tf28': venv)",
   "language": "python",
   "name": "python3"
  },
  "language_info": {
   "codemirror_mode": {
    "name": "ipython",
    "version": 3
   },
   "file_extension": ".py",
   "mimetype": "text/x-python",
   "name": "python",
   "nbconvert_exporter": "python",
   "pygments_lexer": "ipython3",
   "version": "3.10.4"
  },
  "orig_nbformat": 4,
  "vscode": {
   "interpreter": {
    "hash": "070198eb2becfbd3a1ff8d9f590d14046566b34346dad7c3b07f0c859193c00c"
   }
  }
 },
 "nbformat": 4,
 "nbformat_minor": 2
}
