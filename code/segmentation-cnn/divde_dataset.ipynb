{
 "cells": [
  {
   "cell_type": "code",
   "execution_count": 1,
   "id": "67ad4bf9",
   "metadata": {},
   "outputs": [],
   "source": [
    "import csv\n",
    "import os\n",
    "import random\n",
    "from tqdm import tqdm"
   ]
  },
  {
   "cell_type": "code",
   "execution_count": 2,
   "id": "00b644f3",
   "metadata": {},
   "outputs": [],
   "source": [
    "images_dir = '/home/mihai/git/TFG/data/CCPD2019/ccpd_base'\n",
    "mask_dir = '/home/mihai/git/TFG/data/CCPD2019/ccpd_mask'"
   ]
  },
  {
   "cell_type": "code",
   "execution_count": 3,
   "id": "95f073b5",
   "metadata": {},
   "outputs": [
    {
     "name": "stdout",
     "output_type": "stream",
     "text": [
      "Total images length:  310482\n",
      "Total masks length:   310482\n"
     ]
    }
   ],
   "source": [
    "print('Total images length: ',len(os.listdir(images_dir)))\n",
    "print('Total masks length:  ',len(os.listdir(mask_dir)))"
   ]
  },
  {
   "cell_type": "code",
   "execution_count": 4,
   "id": "b9b611d6",
   "metadata": {},
   "outputs": [],
   "source": [
    "def write_csv(csv_name,data,image_path,mask_path):\n",
    "    \n",
    "    if('.csv' not in csv_name):\n",
    "        csv_name = csv_name + '.csv'\n",
    "        \n",
    "    with open(csv_name, mode='w') as csv_file:\n",
    "        csv_writer = csv.writer(csv_file, delimiter=',', quotechar='\"', quoting=csv.QUOTE_MINIMAL)\n",
    "        for item in tqdm(data):\n",
    "            csv_writer.writerow([image_path + '/' + item,mask_path + '/' + item.replace('jpg','png')])"
   ]
  },
  {
   "cell_type": "code",
   "execution_count": 5,
   "id": "320cafda",
   "metadata": {},
   "outputs": [
    {
     "name": "stdout",
     "output_type": "stream",
     "text": [
      "Test length:  25000\n",
      "Test length:  10000\n",
      "Test length:  275482\n",
      "Creating test_dataset.csv: \n"
     ]
    },
    {
     "name": "stderr",
     "output_type": "stream",
     "text": [
      "100%|█████████████████████████████████| 25000/25000 [00:00<00:00, 161155.25it/s]\n"
     ]
    },
    {
     "name": "stdout",
     "output_type": "stream",
     "text": [
      "Creating val_dataset.csv: \n"
     ]
    },
    {
     "name": "stderr",
     "output_type": "stream",
     "text": [
      "100%|█████████████████████████████████| 10000/10000 [00:00<00:00, 140797.12it/s]\n"
     ]
    },
    {
     "name": "stdout",
     "output_type": "stream",
     "text": [
      "Creating train_dataset.csv: \n"
     ]
    },
    {
     "name": "stderr",
     "output_type": "stream",
     "text": [
      "100%|███████████████████████████████| 275482/275482 [00:01<00:00, 160531.20it/s]\n"
     ]
    },
    {
     "name": "stdout",
     "output_type": "stream",
     "text": [
      "Done!\n"
     ]
    }
   ],
   "source": [
    "# Divido el dataset en 3 partes\n",
    "# 25.000 imagenes test\n",
    "# 10.000 imagenes validation\n",
    "# 275.482 (Resto) imagenes train\n",
    "\n",
    "test_length = 25000\n",
    "val_length = 10000\n",
    "\n",
    "\n",
    "\n",
    "images_list = os.listdir(images_dir)\n",
    "\n",
    "random.shuffle(images_list)\n",
    "\n",
    "test_data = images_list[:test_length]\n",
    "val_data = images_list[test_length:(test_length + val_length)]\n",
    "train_data = images_list[(test_length + val_length):]\n",
    "print('Test length: ',len(test_data))\n",
    "print('Test length: ',len(val_data))\n",
    "print('Test length: ',len(train_data))\n",
    "\n",
    "print('Creating test_dataset.csv: ')\n",
    "write_csv('test_dataset.csv',test_data,images_dir,mask_dir)\n",
    "print('Creating val_dataset.csv: ')\n",
    "write_csv('val_dataset.csv',val_data,images_dir,mask_dir)\n",
    "print('Creating train_dataset.csv: ')\n",
    "write_csv('train_dataset.csv',train_data,images_dir,mask_dir)\n",
    "\n",
    "print('Done!')\n"
   ]
  }
 ],
 "metadata": {
  "kernelspec": {
   "display_name": "Python 3 (ipykernel)",
   "language": "python",
   "name": "python3"
  },
  "language_info": {
   "codemirror_mode": {
    "name": "ipython",
    "version": 3
   },
   "file_extension": ".py",
   "mimetype": "text/x-python",
   "name": "python",
   "nbconvert_exporter": "python",
   "pygments_lexer": "ipython3",
   "version": "3.10.4"
  },
  "vscode": {
   "interpreter": {
    "hash": "916dbcbb3f70747c44a77c7bcd40155683ae19c65e1c03b4aa3499c5328201f1"
   }
  }
 },
 "nbformat": 4,
 "nbformat_minor": 5
}
