{
 "cells": [
  {
   "cell_type": "code",
   "execution_count": null,
   "metadata": {
    "pycharm": {
     "name": "#%%\n"
    }
   },
   "outputs": [],
   "source": [
    "import tensorflow as tf\n",
    "from tensorflow.keras.models import load_model\n",
    "import cv2\n",
    "import matplotlib.pyplot as plt\n",
    "from tqdm import tqdm\n",
    "import pandas as pd\n",
    "import numpy as np\n",
    "import glob\n",
    "import sys\n",
    "sys.path.append('segmentation-cnn')\n",
    "sys.path.append('classification-cnn')\n",
    "from model import jacard_coef,jacard_coef_loss,DiceLoss\n",
    "from segment_image import segmented_image,plate_characters"
   ]
  },
  {
   "cell_type": "code",
   "execution_count": null,
   "metadata": {},
   "outputs": [],
   "source": [
    "# Load Model Segmentation List\n",
    "model_seg_list = glob.glob('../data/segmentation-cnn/models/*')\n",
    "model_seg_list.sort()\n",
    "# Load Model Classification List\n",
    "model_clas_list = glob.glob('../data/classification-cnn/models/*')\n",
    "model_clas_list.sort()"
   ]
  },
  {
   "cell_type": "code",
   "execution_count": null,
   "metadata": {
    "pycharm": {
     "name": "#%%\n"
    }
   },
   "outputs": [],
   "source": [
    "\n",
    "model = load_model(model_seg_list[11],custom_objects={'jacard_coef_loss' : jacard_coef_loss,'jacard_coef' : jacard_coef, 'DiceLoss' : DiceLoss})\n",
    "model_classification = load_model(model_clas_list[0])"
   ]
  },
  {
   "cell_type": "code",
   "execution_count": null,
   "metadata": {
    "pycharm": {
     "name": "#%%\n"
    }
   },
   "outputs": [],
   "source": [
    "def read_image(image_path,shape,mode): \n",
    "    x = cv2.imread(image_path, mode)\n",
    "    x = cv2.resize(x, shape)\n",
    "    x = x / 255.0\n",
    "    x = x.astype(np.float32)\n",
    "    return x"
   ]
  },
  {
   "cell_type": "code",
   "execution_count": null,
   "metadata": {
    "pycharm": {
     "name": "#%%\n"
    }
   },
   "outputs": [],
   "source": [
    "col_names = ['img','mask']\n",
    "df = pd.read_csv ('segmentation-cnn/original csv/test_dataset.csv',sep=',',header=None,names=col_names)\n",
    "images = df['img'].tolist()\n",
    "masks = df['mask'].tolist()"
   ]
  },
  {
   "cell_type": "code",
   "execution_count": null,
   "metadata": {
    "pycharm": {
     "name": "#%%\n"
    }
   },
   "outputs": [],
   "source": [
    "index = 12 # 5 12\n",
    "img = read_image(images[index],(288,448),cv2.IMREAD_COLOR)\n",
    "imgRes = np.expand_dims(img, axis=0)\n",
    "maskRes = read_image(masks[index],(288,448),cv2.IMREAD_GRAYSCALE)\n",
    "rgbImage = img[:,:,::-1]\n",
    "\n",
    "# Predict\n",
    "predRes = model.predict(imgRes)\n",
    "predRes[predRes < 0.5] = 0\n",
    "predRes[predRes >= 0.5] = 255\n",
    "\n",
    "fig = plt.figure(figsize=(10, 10))\n",
    "plt.subplot(1,3,1)\n",
    "plt.imshow(rgbImage)\n",
    "plt.subplot(1,3,2)\n",
    "plt.imshow(maskRes)\n",
    "plt.subplot(1,3,3)\n",
    "plt.imshow(predRes[0])"
   ]
  },
  {
   "cell_type": "code",
   "execution_count": null,
   "metadata": {
    "pycharm": {
     "name": "#%%\n"
    }
   },
   "outputs": [],
   "source": [
    "[characters,segResult,resultMaps,segImg,perspective,canny,opening] = plate_characters(img,model,model_classification)\n",
    "segResult = segResult[:,:,::-1]\n",
    "for index in range(0,len(segImg)):\n",
    "    segImg[index] = segImg[index][:,:,::-1]\n",
    "fig = plt.figure(figsize=(12, 12))\n",
    "\n",
    "plt.subplot(1,4,1)\n",
    "plt.imshow(perspective[:,:,::-1])\n",
    "\n",
    "plt.subplot(1,4,2)\n",
    "plt.imshow(canny)\n",
    "\n",
    "plt.subplot(1,4,3)\n",
    "plt.imshow(opening)\n",
    "\n",
    "plt.subplot(1,4,4)\n",
    "plt.imshow(segResult)\n",
    "\n",
    "fig = plt.figure(figsize=(10, 6))\n",
    "for index,item in enumerate(segImg):\n",
    "    plt.subplot(1,len(segImg),index+1)\n",
    "    plt.imshow(item)\n",
    "print(characters)"
   ]
  },
  {
   "cell_type": "code",
   "execution_count": null,
   "metadata": {
    "pycharm": {
     "name": "#%%\n"
    }
   },
   "outputs": [],
   "source": [
    "print(resultMaps[1])\n",
    "plt.imshow(segImg[1])"
   ]
  },
  {
   "cell_type": "code",
   "execution_count": null,
   "metadata": {
    "pycharm": {
     "name": "#%%\n"
    }
   },
   "outputs": [],
   "source": [
    "plt.imshow(predRes[0])\n",
    "\n",
    "def getBoundingBoxFromMask(Y):\n",
    "    \"\"\"Convert mask Y to a bounding box, assumes 0 as background nonzero object\"\"\"\n",
    "    cols, rows = np.nonzero(Y)\n",
    "    if len(cols)==0: \n",
    "        return np.zeros(4, dtype=np.float32)\n",
    "    top_row = np.min(rows)\n",
    "    left_col = np.min(cols)\n",
    "    bottom_row = np.max(rows)\n",
    "    right_col = np.max(cols)\n",
    "    return np.array([left_col, top_row, right_col, bottom_row], dtype=np.float32)"
   ]
  },
  {
   "cell_type": "code",
   "execution_count": null,
   "metadata": {
    "pycharm": {
     "name": "#%%\n"
    }
   },
   "outputs": [],
   "source": [
    "img = cv2.resize(imgRes[0],(720,1160),interpolation = cv2.INTER_NEAREST)\n",
    "pred = cv2.resize(predRes[0],(720,1160),interpolation = cv2.INTER_NEAREST)\n",
    "\n",
    "img = img.astype(np.uint8)\n",
    "pred = pred.astype(np.uint8)\n",
    "\n",
    "contours,_ = cv2.findContours(pred, cv2.RETR_TREE, cv2.CHAIN_APPROX_SIMPLE)\n",
    "contours = sorted(contours, key=cv2.contourArea, reverse=True)\n",
    "\n",
    "approx = cv2.approxPolyDP(contours[0], 0.07 * cv2.arcLength(contours[0], True), True)\n",
    "box = np.squeeze(approx, axis=1)\n",
    "\n",
    "heigth = 70\n",
    "width = 180\n",
    "\n",
    "pt2 = np.float32([[0,0], [width,0], [0,heigth], [width,heigth]])\n",
    "\n",
    "if box[0][0] < box[2][0]:\n",
    "    pt12 = np.float32([box[0],box[3],box[1],box[2]])\n",
    "else:\n",
    "    pt12 = np.float32([box[1],box[0],box[2],box[3]])\n",
    "    \n",
    "\n",
    "f = cv2.getPerspectiveTransform(pt12,pt2)\n",
    "f2 = cv2.warpPerspective(img,f,(width,heigth))\n",
    "\n",
    "\n",
    "gray = cv2.cvtColor(f2,cv2.COLOR_BGR2GRAY)\n",
    "# gray = f2[:,:,2]\n",
    "# gray = cv2.bilateralFilter(gray,11,17,17)\n",
    "canny = cv2.Canny(gray,40,200)\n",
    "# lines = cv2.HoughLinesP(canny,1,np.pi/180,10, maxLineGap=150)\n",
    "\n",
    "lines = cv2.HoughLinesP(canny,0.001,np.pi/180,3, minLineLength=40, maxLineGap=180)\n",
    "\n",
    "# if lines is None:\n",
    "#     break\n",
    "\n",
    "\n",
    "hough = np.zeros((heigth,width), np.uint8)\n",
    "hough = canny.copy()\n",
    "\n",
    "if lines is not None:\n",
    "    for line in lines:\n",
    "        x1,y1,x2,y2 = line[0]\n",
    "        cv2.line(hough,(x1,y1),(x2,y2),(255),1)\n",
    "            \n",
    "\n",
    "kernel = np.ones((int(heigth * 0.1)), dtype=np.uint8) * 255\n",
    "\n",
    "opening = cv2.morphologyEx(hough, cv2.MORPH_OPEN, kernel)\n",
    "\n",
    "boxop = getBoundingBoxFromMask(opening).astype(int)\n",
    "\n",
    "result = f2[boxop[0]:boxop[2],boxop[1]:boxop[3]]\n",
    "\n",
    "if not result.any():\n",
    "    result = f2.copy()\n",
    "resultSeg = result.copy()\n",
    "\n",
    "he, wi,dm = resultSeg.shape\n",
    "div = int(wi/7)\n",
    "\n",
    "divs = [i * div + 5 for i in range(1,7)]\n",
    "divs[0] = divs[0] - 5\n",
    "divs[1] = divs[1] - 5\n",
    "divs[-2] = divs[-2] - 5\n",
    "divs[-1] = divs[-1] - 5\n",
    "\n",
    "\n",
    "for i in divs:\n",
    "    resultSeg[:,i-1:i+1] = 0"
   ]
  },
  {
   "cell_type": "code",
   "execution_count": null,
   "metadata": {
    "pycharm": {
     "name": "#%%\n"
    }
   },
   "outputs": [],
   "source": [
    "rr = imgRes[0] * 255\n",
    "rr = rr.astype(np.uint8)\n",
    "print(np.unique(rr))\n",
    "plt.imshow(rr)"
   ]
  }
 ],
 "metadata": {
  "kernelspec": {
   "display_name": "Python 3.10.4 ('tf28': venv)",
   "language": "python",
   "name": "python3"
  },
  "language_info": {
   "codemirror_mode": {
    "name": "ipython",
    "version": 3
   },
   "file_extension": ".py",
   "mimetype": "text/x-python",
   "name": "python",
   "nbconvert_exporter": "python",
   "pygments_lexer": "ipython3",
   "version": "3.10.4"
  },
  "orig_nbformat": 4,
  "vscode": {
   "interpreter": {
    "hash": "070198eb2becfbd3a1ff8d9f590d14046566b34346dad7c3b07f0c859193c00c"
   }
  }
 },
 "nbformat": 4,
 "nbformat_minor": 2
}
