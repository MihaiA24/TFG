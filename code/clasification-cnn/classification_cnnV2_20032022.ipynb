{
 "cells": [
  {
   "cell_type": "code",
   "execution_count": 15,
   "metadata": {},
   "outputs": [
    {
     "name": "stdout",
     "output_type": "stream",
     "text": [
      "2.5.0\n"
     ]
    }
   ],
   "source": [
    "import tensorflow as tf\n",
    "import os\n",
    "from tensorflow.keras.models import Sequential\n",
    "from tensorflow.keras.layers import Dense, Conv2D, Flatten, Dropout, MaxPooling2D\n",
    "import matplotlib.pyplot as plt\n",
    "print(tf.__version__)"
   ]
  },
  {
   "cell_type": "code",
   "execution_count": 16,
   "metadata": {},
   "outputs": [
    {
     "name": "stdout",
     "output_type": "stream",
     "text": [
      "1\n",
      "\u001b[H\u001b[2J"
     ]
    }
   ],
   "source": [
    "print(len(tf.config.list_physical_devices('GPU')))\n",
    "!clear"
   ]
  },
  {
   "cell_type": "code",
   "execution_count": 17,
   "metadata": {},
   "outputs": [
    {
     "name": "stdout",
     "output_type": "stream",
     "text": [
      "1000\n"
     ]
    }
   ],
   "source": [
    "# !ls classification_dataset\n",
    "lst = os.listdir('dataset/dataset extract')\n",
    "print(len(lst))"
   ]
  },
  {
   "cell_type": "code",
   "execution_count": 18,
   "metadata": {},
   "outputs": [],
   "source": [
    "# Parameters\n",
    "IMAGE_WIDTH = 32 \n",
    "IMAGE_HEIGHT = 32\n",
    "BATCH_SIZE = 16\n",
    "n_classes = 34\n",
    "train_dir = 'classification_dataset/all'\n",
    "test_dir = 'classification_dataset/test/all'"
   ]
  },
  {
   "cell_type": "code",
   "execution_count": 19,
   "metadata": {},
   "outputs": [
    {
     "name": "stdout",
     "output_type": "stream",
     "text": [
      "Found 3522 images belonging to 34 classes.\n",
      "Found 864 images belonging to 34 classes.\n",
      "Found 1082 images belonging to 34 classes.\n"
     ]
    }
   ],
   "source": [
    "datagen = tf.keras.preprocessing.image.ImageDataGenerator(\n",
    "    rescale=1./255,\n",
    "    validation_split=0.2\n",
    ")\n",
    "train_generator = datagen.flow_from_directory(\n",
    "    train_dir,\n",
    "    shuffle=True,\n",
    "    batch_size = BATCH_SIZE,\n",
    "    target_size=(IMAGE_HEIGHT,IMAGE_WIDTH),\n",
    "    subset='training'\n",
    "    \n",
    ")\n",
    "valid_generator = datagen.flow_from_directory(\n",
    "    train_dir,\n",
    "    shuffle=True,\n",
    "    batch_size = BATCH_SIZE,\n",
    "    target_size=(IMAGE_HEIGHT,IMAGE_WIDTH),\n",
    "    subset='validation'\n",
    ")\n",
    "\n",
    "testgen = tf.keras.preprocessing.image.ImageDataGenerator(\n",
    "    rescale=1./255,\n",
    ")\n",
    "test_generator = testgen.flow_from_directory(\n",
    "    test_dir,\n",
    "    shuffle=True,\n",
    "    batch_size = BATCH_SIZE,\n",
    "    target_size=(IMAGE_HEIGHT,IMAGE_WIDTH),\n",
    ")"
   ]
  },
  {
   "cell_type": "code",
   "execution_count": 20,
   "metadata": {},
   "outputs": [
    {
     "data": {
      "image/png": "[encoded data removed]",
      "text/plain": [
       "<Figure size 1440x1440 with 5 Axes>"
      ]
     },
     "metadata": {
      "needs_background": "light"
     },
     "output_type": "display_data"
    }
   ],
   "source": [
    "# This function will plot images in the form of a grid with 1 row and 5 columns where images are placed in each column.\n",
    "def plotImages(images_arr):\n",
    "    fig, axes = plt.subplots(1, 5, figsize=(20,20))\n",
    "    axes = axes.flatten()\n",
    "    for img, ax in zip( images_arr, axes):\n",
    "        ax.imshow(img)\n",
    "    plt.tight_layout()\n",
    "    plt.show()\n",
    "\n",
    "\n",
    "augmented_images = [train_generator[0][0][0] for i in range(25)]\n",
    "plotImages(augmented_images)"
   ]
  },
  {
   "cell_type": "code",
   "execution_count": 21,
   "metadata": {},
   "outputs": [],
   "source": [
    "# def build_model(num_classes):\n",
    "#     model = tf.keras.Sequential([\n",
    "#     tf.keras.layers.Conv2D(filters=8, kernel_size=(3, 3), activation='relu', \n",
    "#                            input_shape=(IMAGE_HEIGHT, IMAGE_WIDTH, 3)),\n",
    "#     tf.keras.layers.MaxPooling2D(pool_size=(2, 2), strides=2),\n",
    "#     tf.keras.layers.Conv2D(filters=16, kernel_size=(3, 3), activation='relu'),\n",
    "#     tf.keras.layers.MaxPooling2D(pool_size=(2, 2), strides=2),\n",
    "#     tf.keras.layers.Conv2D(filters=32, kernel_size=(3, 3), activation='relu'),\n",
    "#     tf.keras.layers.MaxPooling2D(pool_size=(2, 2), strides=2),\n",
    "#     tf.keras.layers.Flatten(),\n",
    "#     tf.keras.layers.Dense(64, activation='relu'),\n",
    "#     tf.keras.layers.Dense(num_classes, activation='softmax')\n",
    "#     ])\n",
    "#     return model\n",
    "# model = build_model(num_classes=n_classes)\n"
   ]
  },
  {
   "cell_type": "code",
   "execution_count": 22,
   "metadata": {},
   "outputs": [],
   "source": [
    "from    tensorflow.keras import Input, Model\n",
    "from tensorflow.keras.layers import Conv2D, MaxPooling2D, Dense, Flatten, Dropout\n",
    "\n",
    "def VGG16(nb_classes, input_shape):\n",
    "    input_tensor = Input(shape=input_shape)\n",
    "    # 1st block\n",
    "    x = Conv2D(64, (3,3), activation='relu', padding='same',name='conv1a')(input_tensor)\n",
    "    x = Conv2D(64, (3,3), activation='relu', padding='same',name='conv1b')(x)\n",
    "    x = MaxPooling2D((2,2), strides=(2,2), name = 'pool1')(x)\n",
    "    # 2nd block\n",
    "    x = Conv2D(128, (3,3), activation='relu', padding='same',name='conv2a')(x)\n",
    "    x = Conv2D(128, (3,3), activation='relu', padding='same',name='conv2b')(x)\n",
    "    x = MaxPooling2D((2,2), strides=(2,2), name = 'pool2')(x)\n",
    "    # 3rd block\n",
    "    x = Conv2D(256, (3,3), activation='relu', padding='same',name='conv3a')(x)\n",
    "    x = Conv2D(256, (3,3), activation='relu', padding='same',name='conv3b')(x)\n",
    "    x = Conv2D(256, (3,3), activation='relu', padding='same',name='conv3c')(x)\n",
    "    x = MaxPooling2D((2,2), strides=(2,2), name = 'pool3')(x)\n",
    "    # 4th block\n",
    "    x = Conv2D(512, (3,3), activation='relu', padding='same',name='conv4a')(x)\n",
    "    x = Conv2D(512, (3,3), activation='relu', padding='same',name='conv4b')(x)\n",
    "    x = Conv2D(512, (3,3), activation='relu', padding='same',name='conv4c')(x)\n",
    "    x = MaxPooling2D((2,2), strides=(2,2), name = 'pool4')(x)\n",
    "    # 5th block\n",
    "    x = Conv2D(512, (3,3), activation='relu', padding='same',name='conv5a')(x)\n",
    "    x = Conv2D(512, (3,3), activation='relu', padding='same',name='conv5b')(x)\n",
    "    x = Conv2D(512, (3,3), activation='relu', padding='same',name='conv5c')(x)\n",
    "    x = MaxPooling2D((2,2), strides=(2,2), name = 'pool5')(x)\n",
    "    # full connection\n",
    "    x = Flatten()(x)\n",
    "    x = Dense(4096, activation='relu',  name='fc6')(x)\n",
    "    # x = Dropout(0.6)(x)\n",
    "    x = Dense(4096, activation='relu', name='fc7')(x)\n",
    "    # x = Dropout(0.6)(x)\n",
    "    output_tensor = Dense(nb_classes, activation='softmax', name='fc8')(x)\n",
    "\n",
    "    model = Model(input_tensor, output_tensor)\n",
    "    return model\n",
    "\n",
    "model=VGG16(n_classes, (IMAGE_HEIGHT, IMAGE_WIDTH, 3))"
   ]
  },
  {
   "cell_type": "code",
   "execution_count": 23,
   "metadata": {},
   "outputs": [
    {
     "name": "stdout",
     "output_type": "stream",
     "text": [
      "Epoch 1/50\n",
      "220/220 [==============================] - 20s 84ms/step - loss: 3.1243 - accuracy: 0.1649 - val_loss: 2.8075 - val_accuracy: 0.1690\n",
      "Epoch 2/50\n",
      "220/220 [==============================] - 18s 83ms/step - loss: 2.3617 - accuracy: 0.2969 - val_loss: 1.8587 - val_accuracy: 0.3900\n",
      "Epoch 3/50\n",
      "220/220 [==============================] - 18s 83ms/step - loss: 1.4721 - accuracy: 0.5026 - val_loss: 1.1515 - val_accuracy: 0.5440\n",
      "Epoch 4/50\n",
      "220/220 [==============================] - 19s 86ms/step - loss: 0.9801 - accuracy: 0.6694 - val_loss: 0.7566 - val_accuracy: 0.7569\n",
      "Epoch 5/50\n",
      "220/220 [==============================] - 21s 94ms/step - loss: 0.5843 - accuracy: 0.8075 - val_loss: 0.3850 - val_accuracy: 0.8611\n",
      "Epoch 6/50\n",
      "220/220 [==============================] - 21s 94ms/step - loss: 0.3698 - accuracy: 0.8768 - val_loss: 0.2648 - val_accuracy: 0.9086\n",
      "Epoch 7/50\n",
      "220/220 [==============================] - 20s 93ms/step - loss: 0.2553 - accuracy: 0.9147 - val_loss: 0.2957 - val_accuracy: 0.9144\n",
      "Epoch 8/50\n",
      "220/220 [==============================] - 21s 95ms/step - loss: 0.1697 - accuracy: 0.9455 - val_loss: 0.1739 - val_accuracy: 0.9444\n",
      "Epoch 9/50\n",
      "220/220 [==============================] - 21s 93ms/step - loss: 0.1566 - accuracy: 0.9552 - val_loss: 0.1327 - val_accuracy: 0.9583\n",
      "Epoch 10/50\n",
      "220/220 [==============================] - 20s 92ms/step - loss: 0.1255 - accuracy: 0.9606 - val_loss: 0.0955 - val_accuracy: 0.9734\n",
      "Epoch 11/50\n",
      "220/220 [==============================] - 20s 91ms/step - loss: 0.0699 - accuracy: 0.9817 - val_loss: 0.1627 - val_accuracy: 0.9572\n",
      "Epoch 12/50\n",
      "220/220 [==============================] - 20s 93ms/step - loss: 0.0657 - accuracy: 0.9780 - val_loss: 0.0634 - val_accuracy: 0.9850\n",
      "Epoch 13/50\n",
      "220/220 [==============================] - 21s 96ms/step - loss: 0.0039 - accuracy: 0.9997 - val_loss: 0.0831 - val_accuracy: 0.9873\n",
      "Epoch 14/50\n",
      "220/220 [==============================] - 24s 109ms/step - loss: 0.0894 - accuracy: 0.9718 - val_loss: 0.0767 - val_accuracy: 0.9792\n",
      "Epoch 15/50\n",
      "220/220 [==============================] - 23s 104ms/step - loss: 0.0453 - accuracy: 0.9863 - val_loss: 0.1645 - val_accuracy: 0.9491\n",
      "Epoch 16/50\n",
      "220/220 [==============================] - 22s 102ms/step - loss: 0.0855 - accuracy: 0.9743 - val_loss: 0.0847 - val_accuracy: 0.9815\n",
      "Epoch 17/50\n",
      "220/220 [==============================] - 22s 100ms/step - loss: 0.0402 - accuracy: 0.9875 - val_loss: 0.0794 - val_accuracy: 0.9757\n",
      "Epoch 18/50\n",
      "220/220 [==============================] - 22s 102ms/step - loss: 0.0051 - accuracy: 0.9989 - val_loss: 0.0707 - val_accuracy: 0.9896\n",
      "Epoch 19/50\n",
      "220/220 [==============================] - 22s 99ms/step - loss: 5.3770e-04 - accuracy: 1.0000 - val_loss: 0.0717 - val_accuracy: 0.9907\n",
      "Epoch 20/50\n",
      "220/220 [==============================] - 25s 112ms/step - loss: 1.9926e-04 - accuracy: 1.0000 - val_loss: 0.0732 - val_accuracy: 0.9896\n",
      "Epoch 21/50\n",
      "220/220 [==============================] - 23s 106ms/step - loss: 1.2698e-04 - accuracy: 1.0000 - val_loss: 0.0756 - val_accuracy: 0.9907\n",
      "Epoch 22/50\n",
      "220/220 [==============================] - 23s 106ms/step - loss: 9.2573e-05 - accuracy: 1.0000 - val_loss: 0.0780 - val_accuracy: 0.9907\n",
      "Epoch 23/50\n",
      "220/220 [==============================] - 26s 117ms/step - loss: 7.0264e-05 - accuracy: 1.0000 - val_loss: 0.0802 - val_accuracy: 0.9907- loss:\n",
      "Epoch 24/50\n",
      "220/220 [==============================] - 26s 116ms/step - loss: 5.5180e-05 - accuracy: 1.0000 - val_loss: 0.0824 - val_accuracy: 0.9907\n",
      "Epoch 25/50\n",
      "220/220 [==============================] - 24s 109ms/step - loss: 4.4396e-05 - accuracy: 1.0000 - val_loss: 0.0838 - val_accuracy: 0.9907\n",
      "Epoch 26/50\n",
      "220/220 [==============================] - 23s 105ms/step - loss: 3.5931e-05 - accuracy: 1.0000 - val_loss: 0.0851 - val_accuracy: 0.9907\n",
      "Epoch 27/50\n",
      "220/220 [==============================] - 22s 101ms/step - loss: 2.9463e-05 - accuracy: 1.0000 - val_loss: 0.0866 - val_accuracy: 0.9907\n",
      "Epoch 28/50\n",
      "220/220 [==============================] - 22s 101ms/step - loss: 2.2940e-05 - accuracy: 1.0000 - val_loss: 0.0888 - val_accuracy: 0.9907\n",
      "Epoch 29/50\n",
      "220/220 [==============================] - 22s 101ms/step - loss: 2.1109e-05 - accuracy: 1.0000 - val_loss: 0.0899 - val_accuracy: 0.9907\n",
      "Epoch 30/50\n",
      "220/220 [==============================] - 22s 101ms/step - loss: 1.7169e-05 - accuracy: 1.0000 - val_loss: 0.0915 - val_accuracy: 0.9907\n",
      "Epoch 31/50\n",
      "220/220 [==============================] - 22s 98ms/step - loss: 1.4369e-05 - accuracy: 1.0000 - val_loss: 0.0929 - val_accuracy: 0.9907\n",
      "Epoch 32/50\n",
      "220/220 [==============================] - 21s 97ms/step - loss: 1.1880e-05 - accuracy: 1.0000 - val_loss: 0.0948 - val_accuracy: 0.9907\n",
      "Epoch 33/50\n",
      "220/220 [==============================] - 21s 97ms/step - loss: 1.0267e-05 - accuracy: 1.0000 - val_loss: 0.0958 - val_accuracy: 0.9907\n",
      "Epoch 34/50\n",
      "220/220 [==============================] - 23s 102ms/step - loss: 9.0164e-06 - accuracy: 1.0000 - val_loss: 0.0971 - val_accuracy: 0.9907\n",
      "Epoch 35/50\n",
      "220/220 [==============================] - 22s 102ms/step - loss: 7.6797e-06 - accuracy: 1.0000 - val_loss: 0.0988 - val_accuracy: 0.9907\n",
      "Epoch 36/50\n",
      "220/220 [==============================] - 21s 97ms/step - loss: 6.5712e-06 - accuracy: 1.0000 - val_loss: 0.0999 - val_accuracy: 0.9907\n",
      "Epoch 37/50\n",
      "220/220 [==============================] - 22s 98ms/step - loss: 5.6995e-06 - accuracy: 1.0000 - val_loss: 0.1015 - val_accuracy: 0.9907\n",
      "Epoch 38/50\n",
      "220/220 [==============================] - 23s 102ms/step - loss: 4.9436e-06 - accuracy: 1.0000 - val_loss: 0.1031 - val_accuracy: 0.9907\n",
      "Epoch 39/50\n",
      "220/220 [==============================] - 23s 104ms/step - loss: 4.2781e-06 - accuracy: 1.0000 - val_loss: 0.1048 - val_accuracy: 0.9907\n",
      "Epoch 40/50\n",
      "220/220 [==============================] - 22s 99ms/step - loss: 3.6972e-06 - accuracy: 1.0000 - val_loss: 0.1062 - val_accuracy: 0.9907\n",
      "Epoch 41/50\n",
      "220/220 [==============================] - 21s 96ms/step - loss: 3.2080e-06 - accuracy: 1.0000 - val_loss: 0.1077 - val_accuracy: 0.9907\n",
      "Epoch 42/50\n",
      "220/220 [==============================] - 20s 90ms/step - loss: 2.7321e-06 - accuracy: 1.0000 - val_loss: 0.1084 - val_accuracy: 0.9907\n",
      "Epoch 43/50\n",
      "220/220 [==============================] - 21s 94ms/step - loss: 2.4503e-06 - accuracy: 1.0000 - val_loss: 0.1101 - val_accuracy: 0.9907\n",
      "Epoch 44/50\n",
      "220/220 [==============================] - 22s 100ms/step - loss: 2.1401e-06 - accuracy: 1.0000 - val_loss: 0.1113 - val_accuracy: 0.9907\n",
      "Epoch 45/50\n",
      "220/220 [==============================] - 23s 103ms/step - loss: 1.8724e-06 - accuracy: 1.0000 - val_loss: 0.1124 - val_accuracy: 0.9907\n",
      "Epoch 46/50\n",
      "220/220 [==============================] - 23s 103ms/step - loss: 1.6190e-06 - accuracy: 1.0000 - val_loss: 0.1141 - val_accuracy: 0.9907\n",
      "Epoch 47/50\n",
      "220/220 [==============================] - 23s 106ms/step - loss: 1.4258e-06 - accuracy: 1.0000 - val_loss: 0.1157 - val_accuracy: 0.9907\n",
      "Epoch 48/50\n",
      "220/220 [==============================] - 22s 101ms/step - loss: 1.2499e-06 - accuracy: 1.0000 - val_loss: 0.1169 - val_accuracy: 0.9907\n",
      "Epoch 49/50\n",
      "220/220 [==============================] - 23s 103ms/step - loss: 1.0832e-06 - accuracy: 1.0000 - val_loss: 0.1180 - val_accuracy: 0.9907\n",
      "Epoch 50/50\n",
      "220/220 [==============================] - 22s 101ms/step - loss: 9.6340e-07 - accuracy: 1.0000 - val_loss: 0.1198 - val_accuracy: 0.9907\n"
     ]
    }
   ],
   "source": [
    "# model = tf.keras.applications.VGG19(\n",
    "#     include_top=False, weights=None, input_tensor=None,\n",
    "#     input_shape=(IMAGE_HEIGHT,IMAGE_WIDTH,3), classes=n_classes,\n",
    "#     classifier_activation='softmax'\n",
    "# )\n",
    "\n",
    "model.compile(\n",
    "    optimizer=tf.keras.optimizers.Adam(lr=0.00005),\n",
    "    loss=tf.keras.losses.CategoricalCrossentropy(from_logits=True),\n",
    "    metrics=['accuracy']\n",
    ")\n",
    "\n",
    "EPOCHS = 50\n",
    "\n",
    "with tf.device('/GPU:0'):\n",
    "    history = model.fit(train_generator,\n",
    "                        steps_per_epoch=train_generator.samples // BATCH_SIZE,\n",
    "                        epochs=EPOCHS,\n",
    "                        validation_data=valid_generator,\n",
    "                        validation_steps= valid_generator.samples // BATCH_SIZE,\n",
    "                        verbose=1\n",
    "                        )\n"
   ]
  },
  {
   "cell_type": "code",
   "execution_count": 24,
   "metadata": {},
   "outputs": [],
   "source": [
    "modelVG = tf.keras.applications.VGG19(\n",
    "    include_top=False, weights=None, input_tensor=None,\n",
    "    input_shape=(IMAGE_HEIGHT,IMAGE_WIDTH,3), classes=n_classes,\n",
    "    classifier_activation='softmax'\n",
    ")"
   ]
  },
  {
   "cell_type": "code",
   "execution_count": 25,
   "metadata": {},
   "outputs": [
    {
     "name": "stdout",
     "output_type": "stream",
     "text": [
      "68/68 [==============================] - 2s 29ms/step - loss: 0.1082 - accuracy: 0.9917\n"
     ]
    }
   ],
   "source": [
    "results = model.evaluate(test_generator,batch_size=BATCH_SIZE)"
   ]
  },
  {
   "cell_type": "code",
   "execution_count": 26,
   "metadata": {},
   "outputs": [],
   "source": [
    "model.save(' modelClasNew.h5')\n",
    "\n"
   ]
  },
  {
   "cell_type": "code",
   "execution_count": 27,
   "metadata": {},
   "outputs": [
    {
     "data": {
      "image/png": "[encoded data removed]",
      "text/plain": [
       "<Figure size 864x648 with 1 Axes>"
      ]
     },
     "metadata": {
      "needs_background": "light"
     },
     "output_type": "display_data"
    },
    {
     "data": {
      "image/png": "[encoded data removed]",
      "text/plain": [
       "<Figure size 864x648 with 1 Axes>"
      ]
     },
     "metadata": {
      "needs_background": "light"
     },
     "output_type": "display_data"
    }
   ],
   "source": [
    "train_loss = history.history['loss']\n",
    "train_acc = history.history['accuracy']\n",
    "valid_loss = history.history['val_loss']\n",
    "valid_acc = history.history['val_accuracy']\n",
    "def save_plots(train_acc, valid_acc, train_loss, valid_loss):\n",
    "    \"\"\"\n",
    "    Function to save the loss and accuracy plots to disk.\n",
    "    \"\"\"\n",
    "    # accuracy plots\n",
    "    plt.figure(figsize=(12, 9))\n",
    "    plt.plot(\n",
    "        train_acc, color='green', linestyle='-', \n",
    "        label='train accuracy'\n",
    "    )\n",
    "    plt.plot(\n",
    "        valid_acc, color='blue', linestyle='-', \n",
    "        label='validataion accuracy'\n",
    "    )\n",
    "    plt.xlabel('Epochs')\n",
    "    plt.ylabel('Accuracy')\n",
    "    plt.legend()\n",
    "    plt.savefig('accuracy.png')\n",
    "    plt.show()\n",
    "    # loss plots\n",
    "    plt.figure(figsize=(12, 9))\n",
    "    plt.plot(\n",
    "        train_loss, color='orange', linestyle='-', \n",
    "        label='train loss'\n",
    "    )\n",
    "    plt.plot(\n",
    "        valid_loss, color='red', linestyle='-', \n",
    "        label='validataion loss'\n",
    "    )\n",
    "    plt.xlabel('Epochs')\n",
    "    plt.ylabel('Loss')\n",
    "    plt.legend()\n",
    "    # plt.savefig('loss.png')\n",
    "    plt.show()\n",
    "save_plots(train_acc, valid_acc, train_loss, valid_loss)"
   ]
  },
  {
   "cell_type": "code",
   "execution_count": 28,
   "metadata": {},
   "outputs": [],
   "source": [
    "import numpy as np\n",
    "a = np.asarray([train_acc,valid_acc,train_loss,valid_loss])\n",
    "np.savetxt(\"model_new_data.csv\", a, delimiter=\",\")"
   ]
  }
 ],
 "metadata": {
  "interpreter": {
   "hash": "242939b0b6b0003f19ccbaf13e72bf1bb3ec31db06f26856a2ba8219e0fce7cf"
  },
  "kernelspec": {
   "display_name": "Python 3.8.10 ('tensorflow': venv)",
   "language": "python",
   "name": "python3"
  },
  "language_info": {
   "codemirror_mode": {
    "name": "ipython",
    "version": 3
   },
   "file_extension": ".py",
   "mimetype": "text/x-python",
   "name": "python",
   "nbconvert_exporter": "python",
   "pygments_lexer": "ipython3",
   "version": "3.8.10"
  },
  "orig_nbformat": 4
 },
 "nbformat": 4,
 "nbformat_minor": 2
}
