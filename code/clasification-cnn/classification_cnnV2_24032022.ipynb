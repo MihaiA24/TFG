{
 "cells": [
  {
   "cell_type": "code",
   "execution_count": 1,
   "metadata": {},
   "outputs": [
    {
     "name": "stderr",
     "output_type": "stream",
     "text": [
      "2022-03-27 18:27:30.439396: I tensorflow/stream_executor/platform/default/dso_loader.cc:53] Successfully opened dynamic library libcudart.so.11.0\n"
     ]
    },
    {
     "name": "stdout",
     "output_type": "stream",
     "text": [
      "2.5.0\n"
     ]
    }
   ],
   "source": [
    "import tensorflow as tf\n",
    "import os\n",
    "from tensorflow.keras.models import Sequential\n",
    "from tensorflow.keras.layers import Dense, Conv2D, Flatten, Dropout, MaxPooling2D\n",
    "import matplotlib.pyplot as plt\n",
    "print(tf.__version__)"
   ]
  },
  {
   "cell_type": "code",
   "execution_count": 2,
   "metadata": {},
   "outputs": [],
   "source": [
    "# Parameters\n",
    "IMAGE_WIDTH = 32 \n",
    "IMAGE_HEIGHT = 32\n",
    "BATCH_SIZE = 8\n",
    "n_classes = 34\n",
    "train_dir = 'classification_dataset/all'\n",
    "test_dir = 'classification_dataset/td/all'\n",
    "\n",
    "train_dir = 'classification_dataset/reduced/train'\n",
    "test_dir = 'classification_dataset/reduced/test'\n",
    "\n",
    "# train_dir = 'classification_dataset/old/train'\n",
    "# test_dir = 'classification_dataset/old/test'\n",
    "\n",
    "# train_dir = 'classification_dataset/train'\n",
    "# test_dir = 'classification_dataset/test'\n",
    "\n",
    "train_dir = 'classification_dataset/new/test/all'\n",
    "test_dir = 'classification_dataset/new/val/all'"
   ]
  },
  {
   "cell_type": "code",
   "execution_count": 3,
   "metadata": {},
   "outputs": [
    {
     "name": "stdout",
     "output_type": "stream",
     "text": [
      "Found 196132 images belonging to 34 classes.\n",
      "Found 49010 images belonging to 34 classes.\n",
      "Found 163216 images belonging to 34 classes.\n"
     ]
    }
   ],
   "source": [
    "datagen = tf.keras.preprocessing.image.ImageDataGenerator(\n",
    "    rescale=1./255,\n",
    "    validation_split=0.2,\n",
    "    rotation_range=10,     #Random rotation between 0 and 45\n",
    "    width_shift_range=0.1,   #% shift\n",
    "    height_shift_range=0.1,\n",
    "    # shear_range=0.1,\n",
    "    # zoom_range=0.1,\n",
    ")\n",
    "\n",
    "train_generator = datagen.flow_from_directory(\n",
    "    train_dir,\n",
    "    shuffle=True,\n",
    "    batch_size = BATCH_SIZE,\n",
    "    target_size=(IMAGE_HEIGHT,IMAGE_WIDTH),\n",
    "    subset='training'\n",
    "    \n",
    ")\n",
    "valid_generator = datagen.flow_from_directory(\n",
    "    train_dir,\n",
    "    shuffle=True,\n",
    "    batch_size = BATCH_SIZE,\n",
    "    target_size=(IMAGE_HEIGHT,IMAGE_WIDTH),\n",
    "    subset='validation'\n",
    ")\n",
    "\n",
    "testgen = tf.keras.preprocessing.image.ImageDataGenerator(\n",
    "    rescale=1./255,\n",
    ")\n",
    "test_generator = testgen.flow_from_directory(\n",
    "    test_dir,\n",
    "    shuffle=True,\n",
    "    batch_size = BATCH_SIZE,\n",
    "    target_size=(IMAGE_HEIGHT,IMAGE_WIDTH),\n",
    ")"
   ]
  },
  {
   "cell_type": "code",
   "execution_count": 4,
   "metadata": {},
   "outputs": [
    {
     "data": {
      "image/png": "[encoded data removed]",
      "text/plain": [
       "<Figure size 1440x1440 with 5 Axes>"
      ]
     },
     "metadata": {
      "needs_background": "light"
     },
     "output_type": "display_data"
    }
   ],
   "source": [
    "# This function will plot images in the form of a grid with 1 row and 5 columns where images are placed in each column.\n",
    "def plotImages(images_arr):\n",
    "    fig, axes = plt.subplots(1, 5, figsize=(20,20))\n",
    "    axes = axes.flatten()\n",
    "    for img, ax in zip( images_arr, axes):\n",
    "        ax.imshow(img)\n",
    "    plt.tight_layout()\n",
    "    plt.show()\n",
    "\n",
    "\n",
    "augmented_images = [train_generator[1][0][0] for i in range(5)]\n",
    "plotImages(augmented_images)"
   ]
  },
  {
   "cell_type": "code",
   "execution_count": 5,
   "metadata": {},
   "outputs": [],
   "source": [
    "# def build_model(num_classes):\n",
    "#     model = tf.keras.Sequential([\n",
    "#     tf.keras.layers.Conv2D(filters=8, kernel_size=(3, 3), activation='relu', \n",
    "#                            input_shape=(IMAGE_HEIGHT, IMAGE_WIDTH, 3)),\n",
    "#     tf.keras.layers.MaxPooling2D(pool_size=(2, 2), strides=2),\n",
    "#     tf.keras.layers.Conv2D(filters=16, kernel_size=(3, 3), activation='relu'),\n",
    "#     tf.keras.layers.MaxPooling2D(pool_size=(2, 2), strides=2),\n",
    "#     tf.keras.layers.Conv2D(filters=32, kernel_size=(3, 3), activation='relu'),\n",
    "#     tf.keras.layers.MaxPooling2D(pool_size=(2, 2), strides=2),\n",
    "#     tf.keras.layers.Flatten(),\n",
    "#     tf.keras.layers.Dense(64, activation='relu'),\n",
    "#     tf.keras.layers.Dense(num_classes, activation='softmax')\n",
    "#     ])\n",
    "#     return model\n",
    "# model = build_model(num_classes=n_classes)\n"
   ]
  },
  {
   "cell_type": "code",
   "execution_count": 6,
   "metadata": {},
   "outputs": [
    {
     "name": "stderr",
     "output_type": "stream",
     "text": [
      "2022-03-27 18:27:54.956596: I tensorflow/stream_executor/platform/default/dso_loader.cc:53] Successfully opened dynamic library libcuda.so.1\n",
      "2022-03-27 18:27:55.018118: I tensorflow/stream_executor/cuda/cuda_gpu_executor.cc:937] successful NUMA node read from SysFS had negative value (-1), but there must be at least one NUMA node, so returning NUMA node zero\n",
      "2022-03-27 18:27:55.018829: I tensorflow/core/common_runtime/gpu/gpu_device.cc:1733] Found device 0 with properties: \n",
      "pciBusID: 0000:01:00.0 name: GeForce GTX 1050 computeCapability: 6.1\n",
      "coreClock: 1.493GHz coreCount: 5 deviceMemorySize: 3.95GiB deviceMemoryBandwidth: 104.43GiB/s\n",
      "2022-03-27 18:27:55.018940: I tensorflow/stream_executor/platform/default/dso_loader.cc:53] Successfully opened dynamic library libcudart.so.11.0\n",
      "2022-03-27 18:27:55.029975: I tensorflow/stream_executor/platform/default/dso_loader.cc:53] Successfully opened dynamic library libcublas.so.11\n",
      "2022-03-27 18:27:55.030135: I tensorflow/stream_executor/platform/default/dso_loader.cc:53] Successfully opened dynamic library libcublasLt.so.11\n",
      "2022-03-27 18:27:55.036057: I tensorflow/stream_executor/platform/default/dso_loader.cc:53] Successfully opened dynamic library libcufft.so.10\n",
      "2022-03-27 18:27:55.038645: I tensorflow/stream_executor/platform/default/dso_loader.cc:53] Successfully opened dynamic library libcurand.so.10\n",
      "2022-03-27 18:27:55.042677: I tensorflow/stream_executor/platform/default/dso_loader.cc:53] Successfully opened dynamic library libcusolver.so.11\n",
      "2022-03-27 18:27:55.048119: I tensorflow/stream_executor/platform/default/dso_loader.cc:53] Successfully opened dynamic library libcusparse.so.11\n",
      "2022-03-27 18:27:55.048829: I tensorflow/stream_executor/platform/default/dso_loader.cc:53] Successfully opened dynamic library libcudnn.so.8\n",
      "2022-03-27 18:27:55.049004: I tensorflow/stream_executor/cuda/cuda_gpu_executor.cc:937] successful NUMA node read from SysFS had negative value (-1), but there must be at least one NUMA node, so returning NUMA node zero\n",
      "2022-03-27 18:27:55.049537: I tensorflow/stream_executor/cuda/cuda_gpu_executor.cc:937] successful NUMA node read from SysFS had negative value (-1), but there must be at least one NUMA node, so returning NUMA node zero\n",
      "2022-03-27 18:27:55.050105: I tensorflow/core/common_runtime/gpu/gpu_device.cc:1871] Adding visible gpu devices: 0\n",
      "2022-03-27 18:27:55.052749: I tensorflow/core/platform/cpu_feature_guard.cc:142] This TensorFlow binary is optimized with oneAPI Deep Neural Network Library (oneDNN) to use the following CPU instructions in performance-critical operations:  AVX2 FMA\n",
      "To enable them in other operations, rebuild TensorFlow with the appropriate compiler flags.\n",
      "2022-03-27 18:27:55.053769: I tensorflow/stream_executor/cuda/cuda_gpu_executor.cc:937] successful NUMA node read from SysFS had negative value (-1), but there must be at least one NUMA node, so returning NUMA node zero\n",
      "2022-03-27 18:27:55.054461: I tensorflow/core/common_runtime/gpu/gpu_device.cc:1733] Found device 0 with properties: \n",
      "pciBusID: 0000:01:00.0 name: GeForce GTX 1050 computeCapability: 6.1\n",
      "coreClock: 1.493GHz coreCount: 5 deviceMemorySize: 3.95GiB deviceMemoryBandwidth: 104.43GiB/s\n",
      "2022-03-27 18:27:55.055132: I tensorflow/stream_executor/cuda/cuda_gpu_executor.cc:937] successful NUMA node read from SysFS had negative value (-1), but there must be at least one NUMA node, so returning NUMA node zero\n",
      "2022-03-27 18:27:55.056245: I tensorflow/stream_executor/cuda/cuda_gpu_executor.cc:937] successful NUMA node read from SysFS had negative value (-1), but there must be at least one NUMA node, so returning NUMA node zero\n",
      "2022-03-27 18:27:55.056766: I tensorflow/core/common_runtime/gpu/gpu_device.cc:1871] Adding visible gpu devices: 0\n",
      "2022-03-27 18:27:55.057274: I tensorflow/stream_executor/platform/default/dso_loader.cc:53] Successfully opened dynamic library libcudart.so.11.0\n",
      "2022-03-27 18:27:56.407152: I tensorflow/core/common_runtime/gpu/gpu_device.cc:1258] Device interconnect StreamExecutor with strength 1 edge matrix:\n",
      "2022-03-27 18:27:56.407184: I tensorflow/core/common_runtime/gpu/gpu_device.cc:1264]      0 \n",
      "2022-03-27 18:27:56.407196: I tensorflow/core/common_runtime/gpu/gpu_device.cc:1277] 0:   N \n",
      "2022-03-27 18:27:56.407432: I tensorflow/stream_executor/cuda/cuda_gpu_executor.cc:937] successful NUMA node read from SysFS had negative value (-1), but there must be at least one NUMA node, so returning NUMA node zero\n",
      "2022-03-27 18:27:56.407888: I tensorflow/stream_executor/cuda/cuda_gpu_executor.cc:937] successful NUMA node read from SysFS had negative value (-1), but there must be at least one NUMA node, so returning NUMA node zero\n",
      "2022-03-27 18:27:56.408275: I tensorflow/stream_executor/cuda/cuda_gpu_executor.cc:937] successful NUMA node read from SysFS had negative value (-1), but there must be at least one NUMA node, so returning NUMA node zero\n",
      "2022-03-27 18:27:56.408604: I tensorflow/core/common_runtime/gpu/gpu_device.cc:1418] Created TensorFlow device (/job:localhost/replica:0/task:0/device:GPU:0 with 2647 MB memory) -> physical GPU (device: 0, name: GeForce GTX 1050, pci bus id: 0000:01:00.0, compute capability: 6.1)\n"
     ]
    }
   ],
   "source": [
    "from    tensorflow.keras import Input, Model\n",
    "from tensorflow.keras.layers import Conv2D, MaxPooling2D, Dense, Flatten, Dropout\n",
    "\n",
    "def VGG16(nb_classes, input_shape):\n",
    "    input_tensor = Input(shape=input_shape)\n",
    "    # 1st block\n",
    "    x = Conv2D(64, (3,3), activation='relu', padding='same',name='conv1a')(input_tensor)\n",
    "    x = Conv2D(64, (3,3), activation='relu', padding='same',name='conv1b')(x)\n",
    "    x = MaxPooling2D((2,2), strides=(2,2), name = 'pool1')(x)\n",
    "    # 2nd block\n",
    "    x = Conv2D(128, (3,3), activation='relu', padding='same',name='conv2a')(x)\n",
    "    x = Conv2D(128, (3,3), activation='relu', padding='same',name='conv2b')(x)\n",
    "    x = MaxPooling2D((2,2), strides=(2,2), name = 'pool2')(x)\n",
    "    # 3rd block\n",
    "    x = Conv2D(256, (3,3), activation='relu', padding='same',name='conv3a')(x)\n",
    "    x = Conv2D(256, (3,3), activation='relu', padding='same',name='conv3b')(x)\n",
    "    x = Conv2D(256, (3,3), activation='relu', padding='same',name='conv3c')(x)\n",
    "    x = MaxPooling2D((2,2), strides=(2,2), name = 'pool3')(x)\n",
    "    # 4th block\n",
    "    x = Conv2D(512, (3,3), activation='relu', padding='same',name='conv4a')(x)\n",
    "    x = Conv2D(512, (3,3), activation='relu', padding='same',name='conv4b')(x)\n",
    "    x = Conv2D(512, (3,3), activation='relu', padding='same',name='conv4c')(x)\n",
    "    x = MaxPooling2D((2,2), strides=(2,2), name = 'pool4')(x)\n",
    "    # 5th block\n",
    "    x = Conv2D(512, (3,3), activation='relu', padding='same',name='conv5a')(x)\n",
    "    x = Conv2D(512, (3,3), activation='relu', padding='same',name='conv5b')(x)\n",
    "    x = Conv2D(512, (3,3), activation='relu', padding='same',name='conv5c')(x)\n",
    "    x = MaxPooling2D((2,2), strides=(2,2), name = 'pool5')(x)\n",
    "    # full connection\n",
    "    x = Flatten()(x)\n",
    "    x = Dense(4096, activation='relu',  name='fc6')(x)\n",
    "    x = Dropout(0.6)(x)\n",
    "    x = Dense(4096, activation='relu', name='fc7')(x)\n",
    "    x = Dropout(0.6)(x)\n",
    "    output_tensor = Dense(nb_classes, activation='softmax', name='fc8')(x)\n",
    "\n",
    "    model = Model(input_tensor, output_tensor)\n",
    "    return model\n",
    "\n",
    "model=VGG16(n_classes, (IMAGE_HEIGHT, IMAGE_WIDTH, 3))"
   ]
  },
  {
   "cell_type": "code",
   "execution_count": 7,
   "metadata": {},
   "outputs": [
    {
     "name": "stderr",
     "output_type": "stream",
     "text": [
      "/home/mihai/TFG/tensorflow/lib/python3.8/site-packages/tensorflow/python/keras/optimizer_v2/optimizer_v2.py:374: UserWarning: The `lr` argument is deprecated, use `learning_rate` instead.\n",
      "  warnings.warn(\n",
      "2022-03-27 18:27:57.472638: I tensorflow/compiler/mlir/mlir_graph_optimization_pass.cc:176] None of the MLIR Optimization Passes are enabled (registered 2)\n",
      "2022-03-27 18:27:57.491520: I tensorflow/core/platform/profile_utils/cpu_utils.cc:114] CPU Frequency: 2799925000 Hz\n"
     ]
    },
    {
     "name": "stdout",
     "output_type": "stream",
     "text": [
      "Epoch 1/5\n"
     ]
    },
    {
     "name": "stderr",
     "output_type": "stream",
     "text": [
      "2022-03-27 18:27:58.983402: I tensorflow/stream_executor/platform/default/dso_loader.cc:53] Successfully opened dynamic library libcudnn.so.8\n",
      "2022-03-27 18:27:59.756386: I tensorflow/stream_executor/cuda/cuda_dnn.cc:359] Loaded cuDNN version 8100\n",
      "2022-03-27 18:28:00.514933: I tensorflow/stream_executor/platform/default/dso_loader.cc:53] Successfully opened dynamic library libcublas.so.11\n",
      "2022-03-27 18:28:01.100305: I tensorflow/stream_executor/platform/default/dso_loader.cc:53] Successfully opened dynamic library libcublasLt.so.11\n"
     ]
    },
    {
     "name": "stdout",
     "output_type": "stream",
     "text": [
      "24516/24516 [==============================] - 1581s 64ms/step - loss: 0.7805 - accuracy: 0.7882 - val_loss: 0.1508 - val_accuracy: 0.9608\n",
      "Epoch 2/5\n",
      "24516/24516 [==============================] - 1562s 64ms/step - loss: 0.1258 - accuracy: 0.9668 - val_loss: 0.1126 - val_accuracy: 0.9719\n",
      "Epoch 3/5\n",
      "24516/24516 [==============================] - 1807s 74ms/step - loss: 0.0965 - accuracy: 0.9748 - val_loss: 0.0916 - val_accuracy: 0.9762\n",
      "Epoch 4/5\n",
      " 8664/24516 [=========>....................] - ETA: 24:12 - loss: 0.0828 - accuracy: 0.9785"
     ]
    },
    {
     "ename": "KeyboardInterrupt",
     "evalue": "",
     "output_type": "error",
     "traceback": [
      "\u001b[0;31m---------------------------------------------------------------------------\u001b[0m",
      "\u001b[0;31mKeyboardInterrupt\u001b[0m                         Traceback (most recent call last)",
      "\u001b[1;32m/home/mihai/TFG/Machine-Learning-Collection-master/ML/Pytorch/image_segmentation/classification_characters/classification_cnnV2_24032022.ipynb Cell 7'\u001b[0m in \u001b[0;36m<cell line: 15>\u001b[0;34m()\u001b[0m\n\u001b[1;32m     <a href='vscode-notebook-cell:/home/mihai/TFG/Machine-Learning-Collection-master/ML/Pytorch/image_segmentation/classification_characters/classification_cnnV2_24032022.ipynb#ch0000006?line=12'>13</a>\u001b[0m EPOCHS \u001b[39m=\u001b[39m \u001b[39m5\u001b[39m\n\u001b[1;32m     <a href='vscode-notebook-cell:/home/mihai/TFG/Machine-Learning-Collection-master/ML/Pytorch/image_segmentation/classification_characters/classification_cnnV2_24032022.ipynb#ch0000006?line=14'>15</a>\u001b[0m \u001b[39mwith\u001b[39;00m tf\u001b[39m.\u001b[39mdevice(\u001b[39m'\u001b[39m\u001b[39m/GPU:0\u001b[39m\u001b[39m'\u001b[39m):\n\u001b[0;32m---> <a href='vscode-notebook-cell:/home/mihai/TFG/Machine-Learning-Collection-master/ML/Pytorch/image_segmentation/classification_characters/classification_cnnV2_24032022.ipynb#ch0000006?line=15'>16</a>\u001b[0m     history \u001b[39m=\u001b[39m model\u001b[39m.\u001b[39;49mfit(train_generator,\n\u001b[1;32m     <a href='vscode-notebook-cell:/home/mihai/TFG/Machine-Learning-Collection-master/ML/Pytorch/image_segmentation/classification_characters/classification_cnnV2_24032022.ipynb#ch0000006?line=16'>17</a>\u001b[0m                         steps_per_epoch\u001b[39m=\u001b[39;49mtrain_generator\u001b[39m.\u001b[39;49msamples \u001b[39m/\u001b[39;49m\u001b[39m/\u001b[39;49m BATCH_SIZE,\n\u001b[1;32m     <a href='vscode-notebook-cell:/home/mihai/TFG/Machine-Learning-Collection-master/ML/Pytorch/image_segmentation/classification_characters/classification_cnnV2_24032022.ipynb#ch0000006?line=17'>18</a>\u001b[0m                         epochs\u001b[39m=\u001b[39;49mEPOCHS,\n\u001b[1;32m     <a href='vscode-notebook-cell:/home/mihai/TFG/Machine-Learning-Collection-master/ML/Pytorch/image_segmentation/classification_characters/classification_cnnV2_24032022.ipynb#ch0000006?line=18'>19</a>\u001b[0m                         validation_data\u001b[39m=\u001b[39;49mvalid_generator,\n\u001b[1;32m     <a href='vscode-notebook-cell:/home/mihai/TFG/Machine-Learning-Collection-master/ML/Pytorch/image_segmentation/classification_characters/classification_cnnV2_24032022.ipynb#ch0000006?line=19'>20</a>\u001b[0m                         validation_steps\u001b[39m=\u001b[39;49m valid_generator\u001b[39m.\u001b[39;49msamples \u001b[39m/\u001b[39;49m\u001b[39m/\u001b[39;49m BATCH_SIZE,\n\u001b[1;32m     <a href='vscode-notebook-cell:/home/mihai/TFG/Machine-Learning-Collection-master/ML/Pytorch/image_segmentation/classification_characters/classification_cnnV2_24032022.ipynb#ch0000006?line=20'>21</a>\u001b[0m                         verbose\u001b[39m=\u001b[39;49m\u001b[39m1\u001b[39;49m\n\u001b[1;32m     <a href='vscode-notebook-cell:/home/mihai/TFG/Machine-Learning-Collection-master/ML/Pytorch/image_segmentation/classification_characters/classification_cnnV2_24032022.ipynb#ch0000006?line=21'>22</a>\u001b[0m                         )\n",
      "File \u001b[0;32m~/TFG/tensorflow/lib/python3.8/site-packages/tensorflow/python/keras/engine/training.py:1188\u001b[0m, in \u001b[0;36mModel.fit\u001b[0;34m(self, x, y, batch_size, epochs, verbose, callbacks, validation_split, validation_data, shuffle, class_weight, sample_weight, initial_epoch, steps_per_epoch, validation_steps, validation_batch_size, validation_freq, max_queue_size, workers, use_multiprocessing)\u001b[0m\n\u001b[1;32m   <a href='file:///home/mihai/TFG/tensorflow/lib/python3.8/site-packages/tensorflow/python/keras/engine/training.py?line=1185'>1186</a>\u001b[0m logs \u001b[39m=\u001b[39m tmp_logs  \u001b[39m# No error, now safe to assign to logs.\u001b[39;00m\n\u001b[1;32m   <a href='file:///home/mihai/TFG/tensorflow/lib/python3.8/site-packages/tensorflow/python/keras/engine/training.py?line=1186'>1187</a>\u001b[0m end_step \u001b[39m=\u001b[39m step \u001b[39m+\u001b[39m data_handler\u001b[39m.\u001b[39mstep_increment\n\u001b[0;32m-> <a href='file:///home/mihai/TFG/tensorflow/lib/python3.8/site-packages/tensorflow/python/keras/engine/training.py?line=1187'>1188</a>\u001b[0m callbacks\u001b[39m.\u001b[39;49mon_train_batch_end(end_step, logs)\n\u001b[1;32m   <a href='file:///home/mihai/TFG/tensorflow/lib/python3.8/site-packages/tensorflow/python/keras/engine/training.py?line=1188'>1189</a>\u001b[0m \u001b[39mif\u001b[39;00m \u001b[39mself\u001b[39m\u001b[39m.\u001b[39mstop_training:\n\u001b[1;32m   <a href='file:///home/mihai/TFG/tensorflow/lib/python3.8/site-packages/tensorflow/python/keras/engine/training.py?line=1189'>1190</a>\u001b[0m   \u001b[39mbreak\u001b[39;00m\n",
      "File \u001b[0;32m~/TFG/tensorflow/lib/python3.8/site-packages/tensorflow/python/keras/callbacks.py:457\u001b[0m, in \u001b[0;36mCallbackList.on_train_batch_end\u001b[0;34m(self, batch, logs)\u001b[0m\n\u001b[1;32m    <a href='file:///home/mihai/TFG/tensorflow/lib/python3.8/site-packages/tensorflow/python/keras/callbacks.py?line=449'>450</a>\u001b[0m \u001b[39m\"\"\"Calls the `on_train_batch_end` methods of its callbacks.\u001b[39;00m\n\u001b[1;32m    <a href='file:///home/mihai/TFG/tensorflow/lib/python3.8/site-packages/tensorflow/python/keras/callbacks.py?line=450'>451</a>\u001b[0m \n\u001b[1;32m    <a href='file:///home/mihai/TFG/tensorflow/lib/python3.8/site-packages/tensorflow/python/keras/callbacks.py?line=451'>452</a>\u001b[0m \u001b[39mArgs:\u001b[39;00m\n\u001b[1;32m    <a href='file:///home/mihai/TFG/tensorflow/lib/python3.8/site-packages/tensorflow/python/keras/callbacks.py?line=452'>453</a>\u001b[0m \u001b[39m    batch: Integer, index of batch within the current epoch.\u001b[39;00m\n\u001b[1;32m    <a href='file:///home/mihai/TFG/tensorflow/lib/python3.8/site-packages/tensorflow/python/keras/callbacks.py?line=453'>454</a>\u001b[0m \u001b[39m    logs: Dict. Aggregated metric results up until this batch.\u001b[39;00m\n\u001b[1;32m    <a href='file:///home/mihai/TFG/tensorflow/lib/python3.8/site-packages/tensorflow/python/keras/callbacks.py?line=454'>455</a>\u001b[0m \u001b[39m\"\"\"\u001b[39;00m\n\u001b[1;32m    <a href='file:///home/mihai/TFG/tensorflow/lib/python3.8/site-packages/tensorflow/python/keras/callbacks.py?line=455'>456</a>\u001b[0m \u001b[39mif\u001b[39;00m \u001b[39mself\u001b[39m\u001b[39m.\u001b[39m_should_call_train_batch_hooks:\n\u001b[0;32m--> <a href='file:///home/mihai/TFG/tensorflow/lib/python3.8/site-packages/tensorflow/python/keras/callbacks.py?line=456'>457</a>\u001b[0m   \u001b[39mself\u001b[39;49m\u001b[39m.\u001b[39;49m_call_batch_hook(ModeKeys\u001b[39m.\u001b[39;49mTRAIN, \u001b[39m'\u001b[39;49m\u001b[39mend\u001b[39;49m\u001b[39m'\u001b[39;49m, batch, logs\u001b[39m=\u001b[39;49mlogs)\n",
      "File \u001b[0;32m~/TFG/tensorflow/lib/python3.8/site-packages/tensorflow/python/keras/callbacks.py:317\u001b[0m, in \u001b[0;36mCallbackList._call_batch_hook\u001b[0;34m(self, mode, hook, batch, logs)\u001b[0m\n\u001b[1;32m    <a href='file:///home/mihai/TFG/tensorflow/lib/python3.8/site-packages/tensorflow/python/keras/callbacks.py?line=314'>315</a>\u001b[0m   \u001b[39mself\u001b[39m\u001b[39m.\u001b[39m_call_batch_begin_hook(mode, batch, logs)\n\u001b[1;32m    <a href='file:///home/mihai/TFG/tensorflow/lib/python3.8/site-packages/tensorflow/python/keras/callbacks.py?line=315'>316</a>\u001b[0m \u001b[39melif\u001b[39;00m hook \u001b[39m==\u001b[39m \u001b[39m'\u001b[39m\u001b[39mend\u001b[39m\u001b[39m'\u001b[39m:\n\u001b[0;32m--> <a href='file:///home/mihai/TFG/tensorflow/lib/python3.8/site-packages/tensorflow/python/keras/callbacks.py?line=316'>317</a>\u001b[0m   \u001b[39mself\u001b[39;49m\u001b[39m.\u001b[39;49m_call_batch_end_hook(mode, batch, logs)\n\u001b[1;32m    <a href='file:///home/mihai/TFG/tensorflow/lib/python3.8/site-packages/tensorflow/python/keras/callbacks.py?line=317'>318</a>\u001b[0m \u001b[39melse\u001b[39;00m:\n\u001b[1;32m    <a href='file:///home/mihai/TFG/tensorflow/lib/python3.8/site-packages/tensorflow/python/keras/callbacks.py?line=318'>319</a>\u001b[0m   \u001b[39mraise\u001b[39;00m \u001b[39mValueError\u001b[39;00m(\u001b[39m'\u001b[39m\u001b[39mUnrecognized hook: \u001b[39m\u001b[39m{}\u001b[39;00m\u001b[39m'\u001b[39m\u001b[39m.\u001b[39mformat(hook))\n",
      "File \u001b[0;32m~/TFG/tensorflow/lib/python3.8/site-packages/tensorflow/python/keras/callbacks.py:337\u001b[0m, in \u001b[0;36mCallbackList._call_batch_end_hook\u001b[0;34m(self, mode, batch, logs)\u001b[0m\n\u001b[1;32m    <a href='file:///home/mihai/TFG/tensorflow/lib/python3.8/site-packages/tensorflow/python/keras/callbacks.py?line=333'>334</a>\u001b[0m   batch_time \u001b[39m=\u001b[39m time\u001b[39m.\u001b[39mtime() \u001b[39m-\u001b[39m \u001b[39mself\u001b[39m\u001b[39m.\u001b[39m_batch_start_time\n\u001b[1;32m    <a href='file:///home/mihai/TFG/tensorflow/lib/python3.8/site-packages/tensorflow/python/keras/callbacks.py?line=334'>335</a>\u001b[0m   \u001b[39mself\u001b[39m\u001b[39m.\u001b[39m_batch_times\u001b[39m.\u001b[39mappend(batch_time)\n\u001b[0;32m--> <a href='file:///home/mihai/TFG/tensorflow/lib/python3.8/site-packages/tensorflow/python/keras/callbacks.py?line=336'>337</a>\u001b[0m \u001b[39mself\u001b[39;49m\u001b[39m.\u001b[39;49m_call_batch_hook_helper(hook_name, batch, logs)\n\u001b[1;32m    <a href='file:///home/mihai/TFG/tensorflow/lib/python3.8/site-packages/tensorflow/python/keras/callbacks.py?line=338'>339</a>\u001b[0m \u001b[39mif\u001b[39;00m \u001b[39mlen\u001b[39m(\u001b[39mself\u001b[39m\u001b[39m.\u001b[39m_batch_times) \u001b[39m>\u001b[39m\u001b[39m=\u001b[39m \u001b[39mself\u001b[39m\u001b[39m.\u001b[39m_num_batches_for_timing_check:\n\u001b[1;32m    <a href='file:///home/mihai/TFG/tensorflow/lib/python3.8/site-packages/tensorflow/python/keras/callbacks.py?line=339'>340</a>\u001b[0m   end_hook_name \u001b[39m=\u001b[39m hook_name\n",
      "File \u001b[0;32m~/TFG/tensorflow/lib/python3.8/site-packages/tensorflow/python/keras/callbacks.py:375\u001b[0m, in \u001b[0;36mCallbackList._call_batch_hook_helper\u001b[0;34m(self, hook_name, batch, logs)\u001b[0m\n\u001b[1;32m    <a href='file:///home/mihai/TFG/tensorflow/lib/python3.8/site-packages/tensorflow/python/keras/callbacks.py?line=372'>373</a>\u001b[0m \u001b[39mfor\u001b[39;00m callback \u001b[39min\u001b[39;00m \u001b[39mself\u001b[39m\u001b[39m.\u001b[39mcallbacks:\n\u001b[1;32m    <a href='file:///home/mihai/TFG/tensorflow/lib/python3.8/site-packages/tensorflow/python/keras/callbacks.py?line=373'>374</a>\u001b[0m   hook \u001b[39m=\u001b[39m \u001b[39mgetattr\u001b[39m(callback, hook_name)\n\u001b[0;32m--> <a href='file:///home/mihai/TFG/tensorflow/lib/python3.8/site-packages/tensorflow/python/keras/callbacks.py?line=374'>375</a>\u001b[0m   hook(batch, logs)\n\u001b[1;32m    <a href='file:///home/mihai/TFG/tensorflow/lib/python3.8/site-packages/tensorflow/python/keras/callbacks.py?line=376'>377</a>\u001b[0m \u001b[39mif\u001b[39;00m \u001b[39mself\u001b[39m\u001b[39m.\u001b[39m_check_timing:\n\u001b[1;32m    <a href='file:///home/mihai/TFG/tensorflow/lib/python3.8/site-packages/tensorflow/python/keras/callbacks.py?line=377'>378</a>\u001b[0m   \u001b[39mif\u001b[39;00m hook_name \u001b[39mnot\u001b[39;00m \u001b[39min\u001b[39;00m \u001b[39mself\u001b[39m\u001b[39m.\u001b[39m_hook_times:\n",
      "File \u001b[0;32m~/TFG/tensorflow/lib/python3.8/site-packages/tensorflow/python/keras/callbacks.py:1029\u001b[0m, in \u001b[0;36mProgbarLogger.on_train_batch_end\u001b[0;34m(self, batch, logs)\u001b[0m\n\u001b[1;32m   <a href='file:///home/mihai/TFG/tensorflow/lib/python3.8/site-packages/tensorflow/python/keras/callbacks.py?line=1027'>1028</a>\u001b[0m \u001b[39mdef\u001b[39;00m \u001b[39mon_train_batch_end\u001b[39m(\u001b[39mself\u001b[39m, batch, logs\u001b[39m=\u001b[39m\u001b[39mNone\u001b[39;00m):\n\u001b[0;32m-> <a href='file:///home/mihai/TFG/tensorflow/lib/python3.8/site-packages/tensorflow/python/keras/callbacks.py?line=1028'>1029</a>\u001b[0m   \u001b[39mself\u001b[39;49m\u001b[39m.\u001b[39;49m_batch_update_progbar(batch, logs)\n",
      "File \u001b[0;32m~/TFG/tensorflow/lib/python3.8/site-packages/tensorflow/python/keras/callbacks.py:1101\u001b[0m, in \u001b[0;36mProgbarLogger._batch_update_progbar\u001b[0;34m(self, batch, logs)\u001b[0m\n\u001b[1;32m   <a href='file:///home/mihai/TFG/tensorflow/lib/python3.8/site-packages/tensorflow/python/keras/callbacks.py?line=1096'>1097</a>\u001b[0m   \u001b[39mself\u001b[39m\u001b[39m.\u001b[39mseen \u001b[39m+\u001b[39m\u001b[39m=\u001b[39m add_seen\n\u001b[1;32m   <a href='file:///home/mihai/TFG/tensorflow/lib/python3.8/site-packages/tensorflow/python/keras/callbacks.py?line=1098'>1099</a>\u001b[0m \u001b[39mif\u001b[39;00m \u001b[39mself\u001b[39m\u001b[39m.\u001b[39mverbose \u001b[39m==\u001b[39m \u001b[39m1\u001b[39m:\n\u001b[1;32m   <a href='file:///home/mihai/TFG/tensorflow/lib/python3.8/site-packages/tensorflow/python/keras/callbacks.py?line=1099'>1100</a>\u001b[0m   \u001b[39m# Only block async when verbose = 1.\u001b[39;00m\n\u001b[0;32m-> <a href='file:///home/mihai/TFG/tensorflow/lib/python3.8/site-packages/tensorflow/python/keras/callbacks.py?line=1100'>1101</a>\u001b[0m   logs \u001b[39m=\u001b[39m tf_utils\u001b[39m.\u001b[39;49msync_to_numpy_or_python_type(logs)\n\u001b[1;32m   <a href='file:///home/mihai/TFG/tensorflow/lib/python3.8/site-packages/tensorflow/python/keras/callbacks.py?line=1101'>1102</a>\u001b[0m   \u001b[39mself\u001b[39m\u001b[39m.\u001b[39mprogbar\u001b[39m.\u001b[39mupdate(\u001b[39mself\u001b[39m\u001b[39m.\u001b[39mseen, \u001b[39mlist\u001b[39m(logs\u001b[39m.\u001b[39mitems()), finalize\u001b[39m=\u001b[39m\u001b[39mFalse\u001b[39;00m)\n",
      "File \u001b[0;32m~/TFG/tensorflow/lib/python3.8/site-packages/tensorflow/python/keras/utils/tf_utils.py:519\u001b[0m, in \u001b[0;36msync_to_numpy_or_python_type\u001b[0;34m(tensors)\u001b[0m\n\u001b[1;32m    <a href='file:///home/mihai/TFG/tensorflow/lib/python3.8/site-packages/tensorflow/python/keras/utils/tf_utils.py?line=515'>516</a>\u001b[0m     \u001b[39mreturn\u001b[39;00m x\u001b[39m.\u001b[39mitem() \u001b[39mif\u001b[39;00m np\u001b[39m.\u001b[39mndim(x) \u001b[39m==\u001b[39m \u001b[39m0\u001b[39m \u001b[39melse\u001b[39;00m x\n\u001b[1;32m    <a href='file:///home/mihai/TFG/tensorflow/lib/python3.8/site-packages/tensorflow/python/keras/utils/tf_utils.py?line=516'>517</a>\u001b[0m   \u001b[39mreturn\u001b[39;00m t  \u001b[39m# Don't turn ragged or sparse tensors to NumPy.\u001b[39;00m\n\u001b[0;32m--> <a href='file:///home/mihai/TFG/tensorflow/lib/python3.8/site-packages/tensorflow/python/keras/utils/tf_utils.py?line=518'>519</a>\u001b[0m \u001b[39mreturn\u001b[39;00m nest\u001b[39m.\u001b[39;49mmap_structure(_to_single_numpy_or_python_type, tensors)\n",
      "File \u001b[0;32m~/TFG/tensorflow/lib/python3.8/site-packages/tensorflow/python/util/nest.py:867\u001b[0m, in \u001b[0;36mmap_structure\u001b[0;34m(func, *structure, **kwargs)\u001b[0m\n\u001b[1;32m    <a href='file:///home/mihai/TFG/tensorflow/lib/python3.8/site-packages/tensorflow/python/util/nest.py?line=862'>863</a>\u001b[0m flat_structure \u001b[39m=\u001b[39m (flatten(s, expand_composites) \u001b[39mfor\u001b[39;00m s \u001b[39min\u001b[39;00m structure)\n\u001b[1;32m    <a href='file:///home/mihai/TFG/tensorflow/lib/python3.8/site-packages/tensorflow/python/util/nest.py?line=863'>864</a>\u001b[0m entries \u001b[39m=\u001b[39m \u001b[39mzip\u001b[39m(\u001b[39m*\u001b[39mflat_structure)\n\u001b[1;32m    <a href='file:///home/mihai/TFG/tensorflow/lib/python3.8/site-packages/tensorflow/python/util/nest.py?line=865'>866</a>\u001b[0m \u001b[39mreturn\u001b[39;00m pack_sequence_as(\n\u001b[0;32m--> <a href='file:///home/mihai/TFG/tensorflow/lib/python3.8/site-packages/tensorflow/python/util/nest.py?line=866'>867</a>\u001b[0m     structure[\u001b[39m0\u001b[39m], [func(\u001b[39m*\u001b[39mx) \u001b[39mfor\u001b[39;00m x \u001b[39min\u001b[39;00m entries],\n\u001b[1;32m    <a href='file:///home/mihai/TFG/tensorflow/lib/python3.8/site-packages/tensorflow/python/util/nest.py?line=867'>868</a>\u001b[0m     expand_composites\u001b[39m=\u001b[39mexpand_composites)\n",
      "File \u001b[0;32m~/TFG/tensorflow/lib/python3.8/site-packages/tensorflow/python/util/nest.py:867\u001b[0m, in \u001b[0;36m<listcomp>\u001b[0;34m(.0)\u001b[0m\n\u001b[1;32m    <a href='file:///home/mihai/TFG/tensorflow/lib/python3.8/site-packages/tensorflow/python/util/nest.py?line=862'>863</a>\u001b[0m flat_structure \u001b[39m=\u001b[39m (flatten(s, expand_composites) \u001b[39mfor\u001b[39;00m s \u001b[39min\u001b[39;00m structure)\n\u001b[1;32m    <a href='file:///home/mihai/TFG/tensorflow/lib/python3.8/site-packages/tensorflow/python/util/nest.py?line=863'>864</a>\u001b[0m entries \u001b[39m=\u001b[39m \u001b[39mzip\u001b[39m(\u001b[39m*\u001b[39mflat_structure)\n\u001b[1;32m    <a href='file:///home/mihai/TFG/tensorflow/lib/python3.8/site-packages/tensorflow/python/util/nest.py?line=865'>866</a>\u001b[0m \u001b[39mreturn\u001b[39;00m pack_sequence_as(\n\u001b[0;32m--> <a href='file:///home/mihai/TFG/tensorflow/lib/python3.8/site-packages/tensorflow/python/util/nest.py?line=866'>867</a>\u001b[0m     structure[\u001b[39m0\u001b[39m], [func(\u001b[39m*\u001b[39;49mx) \u001b[39mfor\u001b[39;00m x \u001b[39min\u001b[39;00m entries],\n\u001b[1;32m    <a href='file:///home/mihai/TFG/tensorflow/lib/python3.8/site-packages/tensorflow/python/util/nest.py?line=867'>868</a>\u001b[0m     expand_composites\u001b[39m=\u001b[39mexpand_composites)\n",
      "File \u001b[0;32m~/TFG/tensorflow/lib/python3.8/site-packages/tensorflow/python/keras/utils/tf_utils.py:515\u001b[0m, in \u001b[0;36msync_to_numpy_or_python_type.<locals>._to_single_numpy_or_python_type\u001b[0;34m(t)\u001b[0m\n\u001b[1;32m    <a href='file:///home/mihai/TFG/tensorflow/lib/python3.8/site-packages/tensorflow/python/keras/utils/tf_utils.py?line=512'>513</a>\u001b[0m \u001b[39mdef\u001b[39;00m \u001b[39m_to_single_numpy_or_python_type\u001b[39m(t):\n\u001b[1;32m    <a href='file:///home/mihai/TFG/tensorflow/lib/python3.8/site-packages/tensorflow/python/keras/utils/tf_utils.py?line=513'>514</a>\u001b[0m   \u001b[39mif\u001b[39;00m \u001b[39misinstance\u001b[39m(t, ops\u001b[39m.\u001b[39mTensor):\n\u001b[0;32m--> <a href='file:///home/mihai/TFG/tensorflow/lib/python3.8/site-packages/tensorflow/python/keras/utils/tf_utils.py?line=514'>515</a>\u001b[0m     x \u001b[39m=\u001b[39m t\u001b[39m.\u001b[39;49mnumpy()\n\u001b[1;32m    <a href='file:///home/mihai/TFG/tensorflow/lib/python3.8/site-packages/tensorflow/python/keras/utils/tf_utils.py?line=515'>516</a>\u001b[0m     \u001b[39mreturn\u001b[39;00m x\u001b[39m.\u001b[39mitem() \u001b[39mif\u001b[39;00m np\u001b[39m.\u001b[39mndim(x) \u001b[39m==\u001b[39m \u001b[39m0\u001b[39m \u001b[39melse\u001b[39;00m x\n\u001b[1;32m    <a href='file:///home/mihai/TFG/tensorflow/lib/python3.8/site-packages/tensorflow/python/keras/utils/tf_utils.py?line=516'>517</a>\u001b[0m   \u001b[39mreturn\u001b[39;00m t\n",
      "File \u001b[0;32m~/TFG/tensorflow/lib/python3.8/site-packages/tensorflow/python/framework/ops.py:1094\u001b[0m, in \u001b[0;36m_EagerTensorBase.numpy\u001b[0;34m(self)\u001b[0m\n\u001b[1;32m   <a href='file:///home/mihai/TFG/tensorflow/lib/python3.8/site-packages/tensorflow/python/framework/ops.py?line=1070'>1071</a>\u001b[0m \u001b[39m\"\"\"Copy of the contents of this Tensor into a NumPy array or scalar.\u001b[39;00m\n\u001b[1;32m   <a href='file:///home/mihai/TFG/tensorflow/lib/python3.8/site-packages/tensorflow/python/framework/ops.py?line=1071'>1072</a>\u001b[0m \n\u001b[1;32m   <a href='file:///home/mihai/TFG/tensorflow/lib/python3.8/site-packages/tensorflow/python/framework/ops.py?line=1072'>1073</a>\u001b[0m \u001b[39mUnlike NumPy arrays, Tensors are immutable, so this method has to copy\u001b[39;00m\n\u001b[0;32m   (...)\u001b[0m\n\u001b[1;32m   <a href='file:///home/mihai/TFG/tensorflow/lib/python3.8/site-packages/tensorflow/python/framework/ops.py?line=1090'>1091</a>\u001b[0m \u001b[39m    NumPy dtype.\u001b[39;00m\n\u001b[1;32m   <a href='file:///home/mihai/TFG/tensorflow/lib/python3.8/site-packages/tensorflow/python/framework/ops.py?line=1091'>1092</a>\u001b[0m \u001b[39m\"\"\"\u001b[39;00m\n\u001b[1;32m   <a href='file:///home/mihai/TFG/tensorflow/lib/python3.8/site-packages/tensorflow/python/framework/ops.py?line=1092'>1093</a>\u001b[0m \u001b[39m# TODO(slebedev): Consider avoiding a copy for non-CPU or remote tensors.\u001b[39;00m\n\u001b[0;32m-> <a href='file:///home/mihai/TFG/tensorflow/lib/python3.8/site-packages/tensorflow/python/framework/ops.py?line=1093'>1094</a>\u001b[0m maybe_arr \u001b[39m=\u001b[39m \u001b[39mself\u001b[39;49m\u001b[39m.\u001b[39;49m_numpy()  \u001b[39m# pylint: disable=protected-access\u001b[39;00m\n\u001b[1;32m   <a href='file:///home/mihai/TFG/tensorflow/lib/python3.8/site-packages/tensorflow/python/framework/ops.py?line=1094'>1095</a>\u001b[0m \u001b[39mreturn\u001b[39;00m maybe_arr\u001b[39m.\u001b[39mcopy() \u001b[39mif\u001b[39;00m \u001b[39misinstance\u001b[39m(maybe_arr, np\u001b[39m.\u001b[39mndarray) \u001b[39melse\u001b[39;00m maybe_arr\n",
      "File \u001b[0;32m~/TFG/tensorflow/lib/python3.8/site-packages/tensorflow/python/framework/ops.py:1060\u001b[0m, in \u001b[0;36m_EagerTensorBase._numpy\u001b[0;34m(self)\u001b[0m\n\u001b[1;32m   <a href='file:///home/mihai/TFG/tensorflow/lib/python3.8/site-packages/tensorflow/python/framework/ops.py?line=1057'>1058</a>\u001b[0m \u001b[39mdef\u001b[39;00m \u001b[39m_numpy\u001b[39m(\u001b[39mself\u001b[39m):\n\u001b[1;32m   <a href='file:///home/mihai/TFG/tensorflow/lib/python3.8/site-packages/tensorflow/python/framework/ops.py?line=1058'>1059</a>\u001b[0m   \u001b[39mtry\u001b[39;00m:\n\u001b[0;32m-> <a href='file:///home/mihai/TFG/tensorflow/lib/python3.8/site-packages/tensorflow/python/framework/ops.py?line=1059'>1060</a>\u001b[0m     \u001b[39mreturn\u001b[39;00m \u001b[39mself\u001b[39;49m\u001b[39m.\u001b[39;49m_numpy_internal()\n\u001b[1;32m   <a href='file:///home/mihai/TFG/tensorflow/lib/python3.8/site-packages/tensorflow/python/framework/ops.py?line=1060'>1061</a>\u001b[0m   \u001b[39mexcept\u001b[39;00m core\u001b[39m.\u001b[39m_NotOkStatusException \u001b[39mas\u001b[39;00m e:  \u001b[39m# pylint: disable=protected-access\u001b[39;00m\n\u001b[1;32m   <a href='file:///home/mihai/TFG/tensorflow/lib/python3.8/site-packages/tensorflow/python/framework/ops.py?line=1061'>1062</a>\u001b[0m     six\u001b[39m.\u001b[39mraise_from(core\u001b[39m.\u001b[39m_status_to_exception(e\u001b[39m.\u001b[39mcode, e\u001b[39m.\u001b[39mmessage), \u001b[39mNone\u001b[39;00m)\n",
      "\u001b[0;31mKeyboardInterrupt\u001b[0m: "
     ]
    }
   ],
   "source": [
    "# model = tf.keras.applications.VGG19(\n",
    "#     include_top=False, weights=None, input_tensor=None,\n",
    "#     input_shape=(IMAGE_HEIGHT,IMAGE_WIDTH,3), classes=n_classes,\n",
    "#     classifier_activation='softmax'\n",
    "# )\n",
    "\n",
    "model.compile(\n",
    "    optimizer=tf.keras.optimizers.Adagrad(lr=0.0001),\n",
    "    loss=tf.keras.losses.CategoricalCrossentropy(from_logits=False),\n",
    "    metrics=['accuracy']\n",
    ")\n",
    "\n",
    "EPOCHS = 5\n",
    "\n",
    "with tf.device('/GPU:0'):\n",
    "    history = model.fit(train_generator,\n",
    "                        steps_per_epoch=train_generator.samples // BATCH_SIZE,\n",
    "                        epochs=EPOCHS,\n",
    "                        validation_data=valid_generator,\n",
    "                        validation_steps= valid_generator.samples // BATCH_SIZE,\n",
    "                        verbose=1\n",
    "                        )\n"
   ]
  },
  {
   "cell_type": "code",
   "execution_count": null,
   "metadata": {},
   "outputs": [],
   "source": [
    "modelVG = tf.keras.applications.VGG19(\n",
    "    include_top=False, weights=None, input_tensor=None,\n",
    "    input_shape=(IMAGE_HEIGHT,IMAGE_WIDTH,3), classes=n_classes,\n",
    "    classifier_activation='softmax'\n",
    ")"
   ]
  },
  {
   "cell_type": "code",
   "execution_count": null,
   "metadata": {},
   "outputs": [],
   "source": [
    "results = model.evaluate(test_generator,batch_size=BATCH_SIZE)"
   ]
  },
  {
   "cell_type": "code",
   "execution_count": null,
   "metadata": {},
   "outputs": [],
   "source": [
    "model.save(' modelClasNew.h5')\n",
    "\n"
   ]
  },
  {
   "cell_type": "code",
   "execution_count": null,
   "metadata": {},
   "outputs": [],
   "source": [
    "train_loss = history.history['loss']\n",
    "train_acc = history.history['accuracy']\n",
    "valid_loss = history.history['val_loss']\n",
    "valid_acc = history.history['val_accuracy']\n",
    "def save_plots(train_acc, valid_acc, train_loss, valid_loss):\n",
    "    \"\"\"\n",
    "    Function to save the loss and accuracy plots to disk.\n",
    "    \"\"\"\n",
    "    # accuracy plots\n",
    "    plt.figure(figsize=(12, 9))\n",
    "    plt.plot(\n",
    "        train_acc, color='green', linestyle='-', \n",
    "        label='train accuracy'\n",
    "    )\n",
    "    plt.plot(\n",
    "        valid_acc, color='blue', linestyle='-', \n",
    "        label='validataion accuracy'\n",
    "    )\n",
    "    plt.xlabel('Epochs')\n",
    "    plt.ylabel('Accuracy')\n",
    "    plt.legend()\n",
    "    plt.savefig('accuracy.png')\n",
    "    plt.show()\n",
    "    # loss plots\n",
    "    plt.figure(figsize=(12, 9))\n",
    "    plt.plot(\n",
    "        train_loss, color='orange', linestyle='-', \n",
    "        label='train loss'\n",
    "    )\n",
    "    plt.plot(\n",
    "        valid_loss, color='red', linestyle='-', \n",
    "        label='validataion loss'\n",
    "    )\n",
    "    plt.xlabel('Epochs')\n",
    "    plt.ylabel('Loss')\n",
    "    plt.legend()\n",
    "    # plt.savefig('loss.png')\n",
    "    plt.show()\n",
    "save_plots(train_acc, valid_acc, train_loss, valid_loss)"
   ]
  },
  {
   "cell_type": "code",
   "execution_count": null,
   "metadata": {},
   "outputs": [],
   "source": [
    "import numpy as np\n",
    "a = np.asarray([train_acc,valid_acc,train_loss,valid_loss])\n",
    "np.savetxt(\"model_new_data.csv\", a, delimiter=\",\")"
   ]
  }
 ],
 "metadata": {
  "interpreter": {
   "hash": "242939b0b6b0003f19ccbaf13e72bf1bb3ec31db06f26856a2ba8219e0fce7cf"
  },
  "kernelspec": {
   "display_name": "Python 3.8.10 ('tensorflow': venv)",
   "language": "python",
   "name": "python3"
  },
  "language_info": {
   "codemirror_mode": {
    "name": "ipython",
    "version": 3
   },
   "file_extension": ".py",
   "mimetype": "text/x-python",
   "name": "python",
   "nbconvert_exporter": "python",
   "pygments_lexer": "ipython3",
   "version": "3.8.10"
  },
  "orig_nbformat": 4
 },
 "nbformat": 4,
 "nbformat_minor": 2
}
