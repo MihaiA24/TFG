{
 "cells": [
  {
   "cell_type": "code",
   "execution_count": null,
   "metadata": {},
   "outputs": [],
   "source": [
    "import tensorflow as tf\n",
    "from tensorflow.keras.models import load_model\n",
    "import cv2\n",
    "import matplotlib.pyplot as plt\n",
    "from tqdm import tqdm\n",
    "import pandas as pd\n",
    "import numpy as np\n",
    "import glob\n",
    "import os\n",
    "import sys\n",
    "sys.path.append('segmentation-cnn')\n",
    "sys.path.append('classification-cnn')\n",
    "from dataset import tf_dataset\n",
    "from model import jacard_coef,jacard_coef_loss,DiceLoss\n",
    "from segment_imageV2 import segmented_image,plate_characters,plate_characters_only_classification,four_point_transform,segmented_image_warped_skimageV2\n",
    "import imutils"
   ]
  },
  {
   "cell_type": "code",
   "execution_count": null,
   "metadata": {},
   "outputs": [],
   "source": [
    "\"\"\"\n",
    "Notebook auxiliar empleado para guardar los resutlados de X modelos de la red clasificación diferentes para comprar las diferencias entre cada uno de ellos\n",
    "\"\"\""
   ]
  },
  {
   "cell_type": "code",
   "execution_count": null,
   "metadata": {},
   "outputs": [],
   "source": [
    "# Load Model Segmentation List\n",
    "model_seg_list = glob.glob('../data/segmentation-cnn/models/*')\n",
    "model_seg_list.sort()\n",
    "# Load Model Classification List\n",
    "model_clas_list = glob.glob('../data/classification-cnn/models/*')\n",
    "model_clas_list.sort()"
   ]
  },
  {
   "cell_type": "code",
   "execution_count": null,
   "metadata": {},
   "outputs": [],
   "source": [
    "model_clas_list"
   ]
  },
  {
   "cell_type": "code",
   "execution_count": null,
   "metadata": {},
   "outputs": [],
   "source": [
    "\n",
    "model1 = load_model(model_seg_list[9],custom_objects={'jacard_coef_loss' : jacard_coef_loss,'jacard_coef' : jacard_coef, 'DiceLoss' : DiceLoss})\n",
    "model2 = load_model(model_seg_list[20],custom_objects={'jacard_coef_loss' : jacard_coef_loss,'jacard_coef' : jacard_coef, 'DiceLoss' : DiceLoss})\n",
    "model3 = load_model(model_seg_list[14],custom_objects={'jacard_coef_loss' : jacard_coef_loss,'jacard_coef' : jacard_coef, 'DiceLoss' : DiceLoss})\n",
    "model4 = load_model(model_seg_list[13],custom_objects={'jacard_coef_loss' : jacard_coef_loss,'jacard_coef' : jacard_coef, 'DiceLoss' : DiceLoss})\n",
    "model5 = load_model(model_seg_list[11],custom_objects={'jacard_coef_loss' : jacard_coef_loss,'jacard_coef' : jacard_coef, 'DiceLoss' : DiceLoss})\n",
    "# model_classification = load_model(model_clas_list[0])"
   ]
  },
  {
   "cell_type": "code",
   "execution_count": null,
   "metadata": {},
   "outputs": [],
   "source": [
    "model1 = load_model(model_clas_list[3])\n",
    "model2 = load_model(model_clas_list[4])\n",
    "model3 = load_model(model_clas_list[5])\n",
    "model4 = load_model(model_clas_list[10])"
   ]
  },
  {
   "cell_type": "code",
   "execution_count": null,
   "metadata": {},
   "outputs": [],
   "source": [
    "def read_image(image_path,mode): \n",
    "    org = cv2.imread(image_path, mode)\n",
    "    x = org / 255.0\n",
    "    x = x.astype(np.float32)\n",
    "    return x, org\n",
    "\n",
    "def bounding_box(img):\n",
    "    bbox = []\n",
    "    img_split = img.split('-')[3].split('_')\n",
    "    for coor in img_split:\n",
    "        bbox.append((int(coor.split('&')[0]),int(coor.split('&')[1])))\n",
    "        # bbox = bbox[::-1]\n",
    "    return np.float32([bbox[2],bbox[3],bbox[1],bbox[0]])\n",
    "\n",
    "col_names = ['img','mask']\n",
    "df = pd.read_csv ('segmentation-cnn/original csv/test_dataset.csv',sep=',',header=None,names=col_names)\n",
    "images = df['img'].tolist()\n",
    "masks = df['mask'].tolist()\n",
    "\n",
    "\n",
    "test_dataset = tf_dataset(images, masks, batch_size=16, buffer_size=1000)"
   ]
  },
  {
   "cell_type": "code",
   "execution_count": null,
   "metadata": {},
   "outputs": [],
   "source": [
    "perspective, org = read_image('/home/mihai/git/TFG/code/output pred/24/6. perspective.jpg',cv2.IMREAD_COLOR)\n",
    "resultSeg,divs,bw,cleared = segmented_image_warped_skimageV2(perspective)"
   ]
  },
  {
   "cell_type": "code",
   "execution_count": null,
   "metadata": {},
   "outputs": [],
   "source": [
    "plt.imshow(bw)\n",
    "cv2.imwrite('bw.jpg',bw)"
   ]
  },
  {
   "cell_type": "code",
   "execution_count": null,
   "metadata": {},
   "outputs": [],
   "source": [
    "\n",
    "index = 1\n",
    "\n",
    "path = '/home/mihai/git/TFG/code/predsModels/classification/'\n",
    "\n",
    "for index,imgPath in enumerate(images[0:15]):\n",
    "    dr = path + str(index+1)\n",
    "    os.mkdir(dr)\n",
    "    dr = dr + '/'\n",
    "    \n",
    "    image = cv2.imread(images[index])\n",
    "    # image = cv2.cvtColor(image,cv2.COLOR_BGR2RGB)\n",
    "    box = bounding_box(images[index].split('/')[-1])\n",
    "\n",
    "    perspective, _ = four_point_transform(image.copy(), box)\n",
    "\n",
    "    he, wi,dm = perspective.shape\n",
    "    div = int(wi/7)\n",
    "\n",
    "    divs = [i * div + 5 for i in range(1,7)]\n",
    "    divs[0] = divs[0] - 5\n",
    "    divs[1] = divs[1] - 5\n",
    "    divs[-2] = divs[-2] - 5\n",
    "    divs[-1] = divs[-1] - 5\n",
    "\n",
    "    resultSeg = perspective.copy()\n",
    "    for i in divs:\n",
    "        # divImgList.append(resultSeg)\n",
    "        resultSeg[:,i-1:i+1] = 0\n",
    "\n",
    "    divs.insert(0,0)\n",
    "    segImg = []\n",
    "\n",
    "    for ind in range(len(divs)):\n",
    "        if(ind == len(divs)-1):\n",
    "            segImg.append(resultSeg[:,divs[ind]:,:])\n",
    "        else:\n",
    "            segImg.append(resultSeg[:,divs[ind]:divs[ind+1],:])\n",
    "    cv2.imwrite(dr + 'perspective.png',resultSeg)\n",
    "    for index2,item in enumerate(segImg):\n",
    "        cv2.imwrite(dr + str(index2+1) + '.jpg',item)\n",
    "\n",
    "# plt.imshow(perspective)\n",
    "# plt.imshow(segImg[-1])\n",
    "\n",
    "# GUARDAR LAS IMAGENES Y LAS SEG. SIRVEN PARA LAS DOS PARTES. GOLD EN ESTE CASO \n",
    "# EN CASO DE PARTE SEGMENTACION COMENTAR SKIIMAGE, FINDCOUNTURS,ETC....\n"
   ]
  },
  {
   "cell_type": "code",
   "execution_count": null,
   "metadata": {},
   "outputs": [],
   "source": [
    "path = '/home/mihai/git/TFG/code/predsModels/classification/'\n",
    "\n",
    "lst = glob.glob(path + '*')\n",
    "lst.sort()\n",
    "lr = glob.glob(lst[0] + '/*.jpg')\n",
    "lr.sort()\n",
    "lst"
   ]
  },
  {
   "cell_type": "code",
   "execution_count": null,
   "metadata": {},
   "outputs": [],
   "source": [
    "classes = ['0', '1', '2', '3', '4', '5', '6', '7', '8', '9','A', 'B', 'C', 'D', 'E', 'F', 'G', \n",
    "               'H', 'J', 'K', 'L', 'M', 'N', 'P', 'Q', 'R', 'S', 'T', 'U', 'V', 'W', 'X','Y', 'Z']\n",
    "    \n",
    "path = '/home/mihai/git/TFG/code/predsModels/classification/'\n",
    "\n",
    "lst = glob.glob(path + '*')\n",
    "lst.sort()\n",
    "\n",
    "modelList=[model1,model2,model3,model4]\n",
    "\n",
    "for item in lst: # Para todas las carpetas\n",
    "    subList = glob.glob(item + '/*.jpg')\n",
    "    subList.sort()\n",
    "    matricula = []\n",
    "    arrayRes = []\n",
    "    for letterPath in subList[1:]:\n",
    "        letter = cv2.imread(letterPath)\n",
    "        letter = cv2.resize(letter,(32,32),cv2.INTER_CUBIC)\n",
    "        letter = cv2.cvtColor(letter,cv2.COLOR_BGR2RGB)\n",
    "        letter = np.expand_dims(letter,axis=0)\n",
    "        pred = model4.predict(letter)\n",
    "        # x = [str(i) for i in pred[0]]\n",
    "        # arrayRes.append(\",\".join(x))\n",
    "        matricula.append(classes[np.argmax(pred)])\n",
    "    dst = item + '/model4_' + \"\".join(matricula) \n",
    "    # np.savetxt(dst,arrayRes)\n",
    "    np.savetxt(dst,[])"
   ]
  }
 ],
 "metadata": {
  "kernelspec": {
   "display_name": "Python 3.10.4 ('tf28': venv)",
   "language": "python",
   "name": "python3"
  },
  "language_info": {
   "codemirror_mode": {
    "name": "ipython",
    "version": 3
   },
   "file_extension": ".py",
   "mimetype": "text/x-python",
   "name": "python",
   "nbconvert_exporter": "python",
   "pygments_lexer": "ipython3",
   "version": "3.10.4"
  },
  "orig_nbformat": 4,
  "vscode": {
   "interpreter": {
    "hash": "070198eb2becfbd3a1ff8d9f590d14046566b34346dad7c3b07f0c859193c00c"
   }
  }
 },
 "nbformat": 4,
 "nbformat_minor": 2
}
