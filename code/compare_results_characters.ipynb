{
 "cells": [
  {
   "cell_type": "code",
   "execution_count": 2,
   "metadata": {
    "collapsed": true
   },
   "outputs": [],
   "source": [
    "import cv2\n",
    "from tqdm import tqdm\n",
    "import pandas as pd\n",
    "import glob\n",
    "from natsort import natsorted\n",
    "import collections"
   ]
  },
  {
   "cell_type": "code",
   "execution_count": null,
   "outputs": [],
   "source": [
    "\"\"\"\n",
    "Comparo los resultados de las imagenes obtenidas. Obtengo los nombres de las imagenes obtenidas con el script runThread.py\n",
    "de cada una de las carpetas que comienzan con 10.* . En este caso vamos a comprobar cada uno de los caracteres de las matriculas\n",
    "\"\"\""
   ],
   "metadata": {
    "collapsed": false
   }
  },
  {
   "cell_type": "code",
   "execution_count": 3,
   "outputs": [],
   "source": [
    "def read_image(image_path, mode, shape=None, interpolation=None):\n",
    "    x = cv2.imread(image_path, mode)\n",
    "    if shape is not None:\n",
    "        x = cv2.resize(x, shape, interpolation=interpolation)\n",
    "    return x"
   ],
   "metadata": {
    "collapsed": false
   }
  },
  {
   "cell_type": "code",
   "execution_count": 78,
   "outputs": [],
   "source": [
    "path = \"outputs/output pred/\"\n",
    "# path = \"outputs/output masks/\"\n",
    "# path = \"outputs/output predFijo/\"\n",
    "\n",
    "test_length = 25000 * 6\n",
    "# Leo en el array las imagenes originales y saco los indices correctos\n",
    "\n",
    "col_names = ['img','mask']\n",
    "df = pd.read_csv ('segmentation-cnn/original csv/test_dataset.csv',sep=',',header=None,names=col_names)\n",
    "images = df['img'].tolist()\n",
    "\n",
    "origImg = []\n",
    "ads = ['A', 'B', 'C', 'D', 'E', 'F', 'G', 'H', 'J', 'K', 'L', 'M', 'N', 'P', 'Q', 'R', 'S', 'T', 'U', 'V', 'W', 'X',\n",
    "       'Y', 'Z', '0', '1', '2', '3', '4', '5', '6', '7', '8', '9']"
   ],
   "metadata": {
    "collapsed": false
   }
  },
  {
   "cell_type": "code",
   "execution_count": 79,
   "outputs": [
    {
     "name": "stderr",
     "output_type": "stream",
     "text": [
      "100%|██████████| 25000/25000 [00:00<00:00, 640551.26it/s]\n"
     ]
    }
   ],
   "source": [
    "for index, item in enumerate(tqdm(images)):\n",
    "    img_name = item.split('/')[-1]\n",
    "    splt = img_name.split('-')[-3].split('_')[1:]\n",
    "    arr = [ads[int(x)] for x in splt]\n",
    "    origImg.extend(arr)"
   ],
   "metadata": {
    "collapsed": false
   }
  },
  {
   "cell_type": "code",
   "execution_count": 80,
   "outputs": [
    {
     "name": "stdout",
     "output_type": "stream",
     "text": [
      "Total processed:  25000\n"
     ]
    },
    {
     "name": "stderr",
     "output_type": "stream",
     "text": [
      "100%|██████████| 25000/25000 [00:00<00:00, 2227552.95it/s]\n"
     ]
    }
   ],
   "source": [
    "resultImg = []\n",
    "\n",
    "lst = glob.glob(path + '*/10.*')\n",
    "lst = natsorted(lst)\n",
    "\n",
    "print('Total processed: ',len(lst))\n",
    "for index, item in enumerate(tqdm(lst)):\n",
    "    resultImg.extend(item.split('10. ')[-1].split('.jpg')[0])"
   ],
   "metadata": {
    "collapsed": false
   }
  },
  {
   "cell_type": "code",
   "execution_count": 81,
   "outputs": [
    {
     "name": "stdout",
     "output_type": "stream",
     "text": [
      "Original size:  150000\n",
      "Prediction size:  150000\n"
     ]
    }
   ],
   "source": [
    "print('Original size: ', len(origImg))\n",
    "print('Prediction size: ', len(resultImg))"
   ],
   "metadata": {
    "collapsed": false
   }
  },
  {
   "cell_type": "code",
   "execution_count": 82,
   "outputs": [
    {
     "name": "stderr",
     "output_type": "stream",
     "text": [
      "100%|██████████| 150000/150000 [00:00<00:00, 4088414.08it/s]\n"
     ]
    }
   ],
   "source": [
    "iguales = [None] * test_length\n",
    "\n",
    "for index,item in enumerate(tqdm(origImg)):\n",
    "    if origImg[index] == resultImg[index]:\n",
    "        iguales[index] = True\n",
    "    else:\n",
    "        iguales[index] = False"
   ],
   "metadata": {
    "collapsed": false
   }
  },
  {
   "cell_type": "code",
   "execution_count": 83,
   "outputs": [
    {
     "name": "stdout",
     "output_type": "stream",
     "text": [
      "Counter({True: 127467, False: 22533})\n"
     ]
    }
   ],
   "source": [
    "counter=collections.Counter(iguales)\n",
    "\n",
    "print(counter)"
   ],
   "metadata": {
    "collapsed": false
   }
  }
 ],
 "metadata": {
  "kernelspec": {
   "display_name": "Python 3",
   "language": "python",
   "name": "python3"
  },
  "language_info": {
   "codemirror_mode": {
    "name": "ipython",
    "version": 2
   },
   "file_extension": ".py",
   "mimetype": "text/x-python",
   "name": "python",
   "nbconvert_exporter": "python",
   "pygments_lexer": "ipython2",
   "version": "2.7.6"
  }
 },
 "nbformat": 4,
 "nbformat_minor": 0
}
